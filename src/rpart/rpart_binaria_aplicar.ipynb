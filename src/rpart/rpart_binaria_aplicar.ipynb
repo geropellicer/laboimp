{
 "cells": [
  {
   "cell_type": "code",
   "execution_count": 1,
   "metadata": {
    "vscode": {
     "languageId": "r"
    }
   },
   "outputs": [
    {
     "name": "stderr",
     "output_type": "stream",
     "text": [
      "Loading required package: data.table\n",
      "\n",
      "Loading required package: rpart\n",
      "\n",
      "Loading required package: rpart.plot\n",
      "\n"
     ]
    }
   ],
   "source": [
    "#Este script está pensado para correr en Google Cloud\n",
    "# debe  cambiase el setwd() si se desea correr en Windows\n",
    "\n",
    "#Aplicacion de los mejores hiperparametros encontrados en una bayesiana\n",
    "#Utilizando clase_binaria =  [  SI = { \"BAJA+1\", \"BAJA+2\"} ,  NO=\"CONTINUA ]\n",
    "\n",
    "#cargo las librerias que necesito\n",
    "require(\"data.table\")\n",
    "require(\"rpart\")\n",
    "require(\"rpart.plot\")\n"
   ]
  },
  {
   "cell_type": "code",
   "execution_count": 2,
   "metadata": {
    "vscode": {
     "languageId": "r"
    }
   },
   "outputs": [],
   "source": [
    "\n",
    "\n",
    "#Aqui se debe poner la carpeta de la materia de SU computadora local\n",
    "setwd(\"/home/devsar/Documents/Austral/Laboratorio de Implementación\")  #Establezco el Working Directory\n",
    "\n",
    "#cargo el dataset\n",
    "dataset  <- fread(\"./datasets/competencia1_2022_FE_4.csv\" )\n",
    "\n"
   ]
  },
  {
   "cell_type": "code",
   "execution_count": 3,
   "metadata": {
    "vscode": {
     "languageId": "r"
    }
   },
   "outputs": [],
   "source": [
    "\n",
    "#creo la clase_binaria SI={ BAJA+1, BAJA+2 }    NO={ CONTINUA }\n",
    "dataset[ foto_mes==202101, \n",
    "         clase_binaria :=  ifelse( clase_ternaria==\"CONTINUA\", \"NO\", \"SI\" ) ]\n",
    "\n"
   ]
  },
  {
   "cell_type": "code",
   "execution_count": 4,
   "metadata": {
    "vscode": {
     "languageId": "r"
    }
   },
   "outputs": [],
   "source": [
    "\n",
    "\n",
    "dtrain  <- dataset[ foto_mes==202101 ]  #defino donde voy a entrenar\n",
    "dapply  <- dataset[ foto_mes==202103 ]  #defino donde voy a aplicar el modelo\n",
    "\n"
   ]
  },
  {
   "cell_type": "code",
   "execution_count": 7,
   "metadata": {
    "vscode": {
     "languageId": "r"
    }
   },
   "outputs": [
    {
     "data": {
      "text/plain": [
       "n= 161342 \n",
       "\n",
       "node), split, n, loss, yval, (yprob)\n",
       "      * denotes terminal node\n",
       "\n",
       "  1) root 161342 1514 NO (0.9906162066 0.0093837934)  \n",
       "    2) ctrx_quarter>=13.5 152942  803 NO (0.9947496437 0.0052503563)  \n",
       "      4) mv_status02< 15 148413  688 NO (0.9953642875 0.0046357125)  \n",
       "        8) ctrx_quarter>=37.5 133570  332 NO (0.9975144119 0.0024855881)  \n",
       "         16) g_cobra_salario>=8222.14 76841   51 NO (0.9993362918 0.0006637082)  \n",
       "           32) mpayroll< 1830581 76727   48 NO (0.9993744054 0.0006255946)  \n",
       "             64) cliente_edad< 80.5 76644   46 NO (0.9993998226 0.0006001774) *\n",
       "             65) cliente_edad>=80.5 83    2 NO (0.9759036145 0.0240963855) *\n",
       "           33) mpayroll>=1830581 114    3 NO (0.9736842105 0.0263157895) *\n",
       "         17) g_cobra_salario< 8222.14 56729  281 NO (0.9950466252 0.0049533748)  \n",
       "           34) g_saldo_total>=15037.55 50990  184 NO (0.9963914493 0.0036085507)  \n",
       "             68) mcaja_ahorro>=94.92 47774  146 NO (0.9969439444 0.0030560556) *\n",
       "             69) mcaja_ahorro< 94.92 3216   38 NO (0.9881840796 0.0118159204) *\n",
       "           35) g_saldo_total< 15037.55 5739   97 NO (0.9830981007 0.0169018993)  \n",
       "             70) mprestamos_personales>=4170.18 1617    3 NO (0.9981447124 0.0018552876) *\n",
       "             71) mprestamos_personales< 4170.18 4122   94 NO (0.9771955361 0.0228044639) *\n",
       "        9) ctrx_quarter< 37.5 14843  356 NO (0.9760156303 0.0239843697)  \n",
       "         18) mpasivos_margen>=74.005 10598  139 NO (0.9868843178 0.0131156822)  \n",
       "           36) g_saldo_total>=19291.04 6736   52 NO (0.9922802850 0.0077197150)  \n",
       "             72) ccallcenter_transacciones< 4.5 6633   45 NO (0.9932157395 0.0067842605) *\n",
       "             73) ccallcenter_transacciones>=4.5 103    7 NO (0.9320388350 0.0679611650) *\n",
       "           37) g_saldo_total< 19291.04 3862   87 NO (0.9774728120 0.0225271880)  \n",
       "             74) mcuenta_corriente>=-13344.9 3733   77 NO (0.9793731583 0.0206268417) *\n",
       "             75) mcuenta_corriente< -13344.9 129   10 NO (0.9224806202 0.0775193798) *\n",
       "         19) mpasivos_margen< 74.005 4245  217 NO (0.9488810365 0.0511189635)  \n",
       "           38) mprestamos_personales>=14851.38 762    4 NO (0.9947506562 0.0052493438) *\n",
       "           39) mprestamos_personales< 14851.38 3483  213 NO (0.9388458226 0.0611541774)  \n",
       "             78) mv_msaldototal>=1627.85 1923   74 NO (0.9615184607 0.0384815393) *\n",
       "             79) mv_msaldototal< 1627.85 1560  139 NO (0.9108974359 0.0891025641) *\n",
       "      5) mv_status02>=15 4529  115 NO (0.9746080813 0.0253919187)  \n",
       "       10) mv_status03>=9.5 4446   85 NO (0.9808816914 0.0191183086)  \n",
       "         20) cpayroll_trx>=0.5 2674   11 NO (0.9958863126 0.0041136874)  \n",
       "           40) ccaja_ahorro< 3.5 2542    5 NO (0.9980330448 0.0019669552)  \n",
       "             80) mcuenta_corriente< 2674.17 2517    3 NO (0.9988081049 0.0011918951) *\n",
       "             81) mcuenta_corriente>=2674.17 25    2 NO (0.9200000000 0.0800000000) *\n",
       "           41) ccaja_ahorro>=3.5 132    6 NO (0.9545454545 0.0454545455) *\n",
       "         21) cpayroll_trx< 0.5 1772   74 NO (0.9582392777 0.0417607223)  \n",
       "           42) mprestamos_personales>=23414.17 845    8 NO (0.9905325444 0.0094674556) *\n",
       "           43) mprestamos_personales< 23414.17 927   66 NO (0.9288025890 0.0711974110) *\n",
       "       11) mv_status03< 9.5 83   30 NO (0.6385542169 0.3614457831) *\n",
       "    3) ctrx_quarter< 13.5 8400  711 NO (0.9153571429 0.0846428571)  \n",
       "      6) mcuentas_saldo>=-1256.1 5472  295 NO (0.9460891813 0.0539108187)  \n",
       "       12) g_saldo_total>=1832.985 2896   96 NO (0.9668508287 0.0331491713)  \n",
       "         24) ctarjeta_master>=0.5 2234   55 NO (0.9753804834 0.0246195166)  \n",
       "           48) mv_Fvencimiento< -1687 1103   13 NO (0.9882139619 0.0117860381)  \n",
       "             96) ccajas_depositos< 0.5 1078   11 NO (0.9897959184 0.0102040816) *\n",
       "             97) ccajas_depositos>=0.5 25    2 NO (0.9200000000 0.0800000000) *\n",
       "           49) mv_Fvencimiento>=-1687 1131   42 NO (0.9628647215 0.0371352785)  \n",
       "             98) mcaja_ahorro>=7003.86 546   10 NO (0.9816849817 0.0183150183) *\n",
       "             99) mcaja_ahorro< 7003.86 585   32 NO (0.9452991453 0.0547008547) *\n",
       "         25) ctarjeta_master< 0.5 662   41 NO (0.9380664653 0.0619335347) *\n",
       "       13) g_saldo_total< 1832.985 2576  199 NO (0.9227484472 0.0772515528)  \n",
       "         26) mprestamos_personales>=16083.32 499    5 NO (0.9899799599 0.0100200401) *\n",
       "         27) mprestamos_personales< 16083.32 2077  194 NO (0.9065960520 0.0934039480)  \n",
       "           54) cdescubierto_preacordado>=0.5 1789  131 NO (0.9267747345 0.0732252655)  \n",
       "            108) mv_FechaAlta< 115.5 344    4 NO (0.9883720930 0.0116279070) *\n",
       "            109) mv_FechaAlta>=115.5 1445  127 NO (0.9121107266 0.0878892734) *\n",
       "           55) cdescubierto_preacordado< 0.5 288   63 NO (0.7812500000 0.2187500000) *\n",
       "      7) mcuentas_saldo< -1256.1 2928  416 NO (0.8579234973 0.1420765027)  \n",
       "       14) cprestamos_personales>=1.5 600   20 NO (0.9666666667 0.0333333333) *\n",
       "       15) cprestamos_personales< 1.5 2328  396 NO (0.8298969072 0.1701030928)  \n",
       "         30) cdescubierto_preacordado>=0.5 2007  280 NO (0.8604882910 0.1395117090)  \n",
       "           60) mv_FechaAlta< 888 917   84 NO (0.9083969466 0.0916030534) *\n",
       "           61) mv_FechaAlta>=888 1090  196 NO (0.8201834862 0.1798165138) *\n",
       "         31) cdescubierto_preacordado< 0.5 321  116 NO (0.6386292835 0.3613707165) *"
      ]
     },
     "metadata": {},
     "output_type": "display_data"
    },
    {
     "name": "stderr",
     "output_type": "stream",
     "text": [
      "Warning message in dir.create(\"./exp/\"):\n",
      "“'./exp' already exists”\n",
      "Warning message in dir.create(\"./exp/KA3720\"):\n",
      "“'./exp/KA3720' already exists”\n"
     ]
    }
   ],
   "source": [
    "\n",
    "# Entreno el modelo\n",
    "# obviamente rpart no puede ve  clase_ternaria para predecir  clase_binaria\n",
    "# variables = \"ctrx_quarter + g_saldo_total + mpayroll + mv_status02 + mpasivos_margen + mcaja_ahorro + mv_status06 + ctarjeta_master_debitos_automaticos + mtarjeta_visa_consumo + mrentabilidad_annual + g_ratio_90_30 + mprestamos_personales + mcuentas_saldo + tcallcenter + mcuenta_corriente + cpayroll_trx + ccallcenter_transacciones + cliente_antiguedad + mv_msaldototal + cprestamos_personales + mcuenta_corriente_adicional + cdescubierto_preacordado + cliente_edad + mtarjeta_master_consumo + ccomisiones_mantenimiento + ccuenta_debitos_automaticos + mv_mpagominimo + mv_Fvencimiento + mtransferencias_recibidas + mactivos_margen + ctarjeta_master + catm_trx_other + mtransferencias_emitidas + mv_status04 + ctarjeta_visa_debitos_automaticos + mrentabilidad + mcaja_ahorro_adicional + mttarjeta_visa_debitos_automaticos + ccajas_depositos + numero_de_cliente + ccomisiones_otras + mv_mpagado + ctarjeta_visa_transacciones + mpayroll2 + mcaja_ahorro_dolares + ctarjeta_debito + mttarjeta_master_debitos_automaticos + mforex_sell + ctarjeta_visa + ccajas_consultas + mcomisiones_otras + mcomisiones + matm + mcomisiones_mantenimiento + tmobile_app + g_ctxs_virtuales + ctarjeta_master_descuentos + ctarjeta_debito_transacciones + g_prop_txs_app + mpagomiscuentas + mcheques_emitidos + internet + g_ctxs_remotas + mv_mconsumospesos + mtarjeta_master_descuentos + ccajas_extracciones + ctransferencias_emitidas + cpagomiscuentas + cmobile_app_trx + cproductos + mcheques_depositados + mautoservicio + mcuenta_debitos_automaticos + ctarjeta_visa_descuentos + mprestamos_hipotecarios + cinversion2 + mextraccion_autoservicio + mv_status03 + matm_other + ccajeros_propios_descuentos + mv_mconsumosdolares + cseguro_vivienda + g_prom_90_mayor_prom_30 + g_esta_complicado + g_es_activo_virtual + g_es_activo_remoto + g_usa_pago_mis_cuentas + mv_FechaAlta\"\n",
    "# my_formula = paste(\"clase_binaria ~\", variables)\n",
    "\n",
    "variables = \". -foto_mes-numero_de_cliente-clase_ternaria-Master_delinquency-Master_status-Master_mfinanciacion_limite-Master_Fvencimiento-Master_Finiciomora-Master_msaldototal-Master_msaldopesos-Master_msaldodolares-Master_mconsumospesos-Master_mconsumosdolares-Master_mlimitecompra-Master_madelantopesos-Master_madelantodolares-Master_fultimo_cierre-Master_mpagado-Master_mpagospesos-Master_mpagosdolares-Master_fechaalta-Master_mconsumototal-Master_cconsumos-Master_cadelantosefectivo-Master_mpagominimo-Visa_delinquency-Visa_status-Visa_mfinanciacion_limite-Visa_Fvencimiento-Visa_Finiciomora-Visa_msaldototal-Visa_msaldopesos-Visa_msaldodolares-Visa_mconsumospesos-Visa_mconsumosdolares-Visa_mlimitecompra-Visa_madelantopesos-Visa_madelantodolares-Visa_fultimo_cierre-Visa_mpagado-Visa_mpagospesos-Visa_mpagosdolares-Visa_fechaalta-Visa_mconsumototal-Visa_cconsumos-Visa_cadelantosefectivo-Visa_mpagominimo\"\n",
    "my_formula = paste(\"clase_binaria ~\", variables)\n",
    "\n",
    "\n",
    "modelo  <- rpart(formula=   my_formula,\n",
    "                 data=      dtrain,  #los datos donde voy a entrenar\n",
    "                 xval=          0,\n",
    "                 cp=           -0.012,\n",
    "                 minsplit=    1092,\n",
    "                 minbucket=   25,\n",
    "                 maxdepth=     6   )\n",
    "\n",
    "modelo\n",
    "\n",
    "#aplico el modelo a los datos nuevos\n",
    "prediccion  <- predict( object=  modelo,\n",
    "                        newdata= dapply,\n",
    "                        type = \"prob\")\n",
    "\n",
    "#prediccion es una matriz con DOS columnas, llamadas \"NO\", \"SI\"\n",
    "#cada columna es el vector de probabilidades \n",
    "\n",
    "#agrego a dapply una columna nueva que es la probabilidad de BAJA+2\n",
    "dfinal  <- copy( dapply[ , list(numero_de_cliente) ] )\n",
    "dfinal[ , prob_SI := prediccion[ , \"SI\"] ]\n",
    "\n",
    "\n",
    "# por favor cambiar por una semilla propia\n",
    "# que sino el Fiscal General va a impugnar la prediccion\n",
    "set.seed(700027)  \n",
    "dfinal[ , azar := runif( nrow(dapply) ) ]\n",
    "\n",
    "# ordeno en forma descentente, y cuando coincide la probabilidad, al azar\n",
    "setorder( dfinal, -prob_SI, azar )\n",
    "\n",
    "\n",
    "dir.create( \"./exp/\" )\n",
    "dir.create( \"./exp/KA3720\" )\n",
    "\n",
    "\n",
    "for( corte  in  c( 7500, 8000, 8500, 9000, 9500, 10000, 10500, 11000 ) )\n",
    "{\n",
    "  #le envio a los  corte  mejores,  de mayor probabilidad de prob_SI\n",
    "  dfinal[ , Predicted := 0L ]\n",
    "  dfinal[ 1:corte , Predicted := 1L ]\n",
    "\n",
    "\n",
    "  fwrite( dfinal[ , list(numero_de_cliente, Predicted) ], #solo los campos para Kaggle\n",
    "           file= paste0( \"./exp/KA3720/KA3720_FINAL_FORMULA_LARGA_\",  corte, \".csv\"),\n",
    "           sep=  \",\" )\n",
    "}\n"
   ]
  }
 ],
 "metadata": {
  "kernelspec": {
   "display_name": "R",
   "language": "R",
   "name": "ir"
  },
  "language_info": {
   "codemirror_mode": "r",
   "file_extension": ".r",
   "mimetype": "text/x-r-source",
   "name": "R",
   "pygments_lexer": "r",
   "version": "4.2.1"
  },
  "orig_nbformat": 4
 },
 "nbformat": 4,
 "nbformat_minor": 2
}
