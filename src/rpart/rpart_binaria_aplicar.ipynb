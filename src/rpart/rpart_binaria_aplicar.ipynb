{
 "cells": [
  {
   "cell_type": "code",
   "execution_count": 13,
   "metadata": {
    "vscode": {
     "languageId": "r"
    }
   },
   "outputs": [],
   "source": [
    "#Este script está pensado para correr en Google Cloud\n",
    "# debe  cambiase el setwd() si se desea correr en Windows\n",
    "\n",
    "#Aplicacion de los mejores hiperparametros encontrados en una bayesiana\n",
    "#Utilizando clase_binaria =  [  SI = { \"BAJA+1\", \"BAJA+2\"} ,  NO=\"CONTINUA ]\n",
    "\n",
    "#cargo las librerias que necesito\n",
    "require(\"data.table\")\n",
    "require(\"rpart\")\n",
    "require(\"rpart.plot\")\n"
   ]
  },
  {
   "cell_type": "code",
   "execution_count": 14,
   "metadata": {
    "vscode": {
     "languageId": "r"
    }
   },
   "outputs": [],
   "source": [
    "\n",
    "\n",
    "#Aqui se debe poner la carpeta de la materia de SU computadora local\n",
    "setwd(\"/home/devsar/Documents/Austral/Laboratorio de Implementación\")  #Establezco el Working Directory\n",
    "\n",
    "#cargo el dataset\n",
    "dataset  <- fread(\"./datasets/competencia1_2022_FE_4.csv\" )\n",
    "\n"
   ]
  },
  {
   "cell_type": "code",
   "execution_count": 15,
   "metadata": {
    "vscode": {
     "languageId": "r"
    }
   },
   "outputs": [],
   "source": [
    "\n",
    "#creo la clase_binaria SI={ BAJA+1, BAJA+2 }    NO={ CONTINUA }\n",
    "dataset[ foto_mes==202101, \n",
    "         clase_binaria :=  ifelse( clase_ternaria==\"CONTINUA\", \"NO\", \"SI\" ) ]\n",
    "\n"
   ]
  },
  {
   "cell_type": "code",
   "execution_count": 16,
   "metadata": {
    "vscode": {
     "languageId": "r"
    }
   },
   "outputs": [],
   "source": [
    "\n",
    "\n",
    "dtrain  <- dataset[ foto_mes==202101 ]  #defino donde voy a entrenar\n",
    "dapply  <- dataset[ foto_mes==202103 ]  #defino donde voy a aplicar el modelo\n",
    "\n"
   ]
  },
  {
   "cell_type": "code",
   "execution_count": 18,
   "metadata": {
    "vscode": {
     "languageId": "r"
    }
   },
   "outputs": [
    {
     "ename": "ERROR",
     "evalue": "Error in prediccion[, \"SI\"]: subscript out of bounds\n",
     "output_type": "error",
     "traceback": [
      "Error in prediccion[, \"SI\"]: subscript out of bounds\nTraceback:\n",
      "1. dfinal[, `:=`(prob_SI, prediccion[, \"SI\"])]",
      "2. `[.data.table`(dfinal, , `:=`(prob_SI, prediccion[, \"SI\"]))",
      "3. eval(jsub, SDenv, parent.frame())"
     ]
    }
   ],
   "source": [
    "\n",
    "# Entreno el modelo\n",
    "# obviamente rpart no puede ve  clase_ternaria para predecir  clase_binaria\n",
    "# variables = \"ctrx_quarter + g_saldo_total + mpayroll + mv_status02 + mpasivos_margen + mcaja_ahorro + mv_status06 + ctarjeta_master_debitos_automaticos + mtarjeta_visa_consumo + mrentabilidad_annual + g_ratio_90_30 + mprestamos_personales + mcuentas_saldo + tcallcenter + mcuenta_corriente + cpayroll_trx + ccallcenter_transacciones + cliente_antiguedad + mv_msaldototal + cprestamos_personales + mcuenta_corriente_adicional + cdescubierto_preacordado + cliente_edad + mtarjeta_master_consumo + ccomisiones_mantenimiento + ccuenta_debitos_automaticos + mv_mpagominimo + mv_Fvencimiento + mtransferencias_recibidas + mactivos_margen + ctarjeta_master + catm_trx_other + mtransferencias_emitidas + mv_status04 + ctarjeta_visa_debitos_automaticos + mrentabilidad + mcaja_ahorro_adicional + mttarjeta_visa_debitos_automaticos + ccajas_depositos + numero_de_cliente + ccomisiones_otras + mv_mpagado + ctarjeta_visa_transacciones + mpayroll2 + mcaja_ahorro_dolares + ctarjeta_debito + mttarjeta_master_debitos_automaticos + mforex_sell + ctarjeta_visa + ccajas_consultas + mcomisiones_otras + mcomisiones + matm + mcomisiones_mantenimiento + tmobile_app + g_ctxs_virtuales + ctarjeta_master_descuentos + ctarjeta_debito_transacciones + g_prop_txs_app + mpagomiscuentas + mcheques_emitidos + internet + g_ctxs_remotas + mv_mconsumospesos + mtarjeta_master_descuentos + ccajas_extracciones + ctransferencias_emitidas + cpagomiscuentas + cmobile_app_trx + cproductos + mcheques_depositados + mautoservicio + mcuenta_debitos_automaticos + ctarjeta_visa_descuentos + mprestamos_hipotecarios + cinversion2 + mextraccion_autoservicio + mv_status03 + matm_other + ccajeros_propios_descuentos + mv_mconsumosdolares + cseguro_vivienda + g_prom_90_mayor_prom_30 + g_esta_complicado + g_es_activo_virtual + g_es_activo_remoto + g_usa_pago_mis_cuentas + mv_FechaAlta\"\n",
    "# my_formula = paste(\"clase_binaria ~\", variables)\n",
    "\n",
    "variables = \". -foto_mes-numero_de_cliente-clase_ternaria-Master_delinquency-Master_status-Master_mfinanciacion_limite-Master_Fvencimiento-Master_Finiciomora-Master_msaldototal-Master_msaldopesos-Master_msaldodolares-Master_mconsumospesos-Master_mconsumosdolares-Master_mlimitecompra-Master_madelantopesos-Master_madelantodolares-Master_fultimo_cierre-Master_mpagado-Master_mpagospesos-Master_mpagosdolares-Master_fechaalta-Master_mconsumototal-Master_cconsumos-Master_cadelantosefectivo-Master_mpagominimo-Visa_delinquency-Visa_status-Visa_mfinanciacion_limite-Visa_Fvencimiento-Visa_Finiciomora-Visa_msaldototal-Visa_msaldopesos-Visa_msaldodolares-Visa_mconsumospesos-Visa_mconsumosdolares-Visa_mlimitecompra-Visa_madelantopesos-Visa_madelantodolares-Visa_fultimo_cierre-Visa_mpagado-Visa_mpagospesos-Visa_mpagosdolares-Visa_fechaalta-Visa_mconsumototal-Visa_cconsumos-Visa_cadelantosefectivo-Visa_mpagominimo\"\n",
    "my_formula = paste(\"clase_ternaria ~\", variables)\n",
    "\n",
    "\n",
    "modelo  <- rpart(formula=   my_formula,\n",
    "                 data=      dtrain,  #los datos donde voy a entrenar\n",
    "                 xval=          0,\n",
    "                 cp=           -0.012,\n",
    "                 minsplit=    1092,\n",
    "                 minbucket=   25,\n",
    "                 maxdepth=     6   )\n",
    "\n",
    "\n",
    "\n",
    "#aplico el modelo a los datos nuevos\n",
    "prediccion  <- predict( object=  modelo,\n",
    "                        newdata= dapply,\n",
    "                        type = \"prob\")\n",
    "\n",
    "#prediccion es una matriz con DOS columnas, llamadas \"NO\", \"SI\"\n",
    "#cada columna es el vector de probabilidades \n",
    "\n",
    "#agrego a dapply una columna nueva que es la probabilidad de BAJA+2\n",
    "dfinal  <- copy( dapply[ , list(numero_de_cliente) ] )\n",
    "dfinal[ , prob_SI := prediccion[ , \"SI\"] ]\n",
    "\n",
    "\n",
    "# por favor cambiar por una semilla propia\n",
    "# que sino el Fiscal General va a impugnar la prediccion\n",
    "set.seed(700027)  \n",
    "dfinal[ , azar := runif( nrow(dapply) ) ]\n",
    "\n",
    "# ordeno en forma descentente, y cuando coincide la probabilidad, al azar\n",
    "setorder( dfinal, -prob_SI, azar )\n",
    "\n",
    "\n",
    "dir.create( \"./exp/\" )\n",
    "dir.create( \"./exp/KA3720\" )\n",
    "\n",
    "\n",
    "for( corte  in  c( 7500, 8000, 8500, 9000, 9500, 10000, 10500, 11000 ) )\n",
    "{\n",
    "  #le envio a los  corte  mejores,  de mayor probabilidad de prob_SI\n",
    "  dfinal[ , Predicted := 0L ]\n",
    "  dfinal[ 1:corte , Predicted := 1L ]\n",
    "\n",
    "\n",
    "  fwrite( dfinal[ , list(numero_de_cliente, Predicted) ], #solo los campos para Kaggle\n",
    "           file= paste0( \"./exp/KA3720/KA3720_FINAL_FORMULA_LARGA_\",  corte, \".csv\"),\n",
    "           sep=  \",\" )\n",
    "}\n"
   ]
  }
 ],
 "metadata": {
  "kernelspec": {
   "display_name": "R",
   "language": "R",
   "name": "ir"
  },
  "language_info": {
   "codemirror_mode": "r",
   "file_extension": ".r",
   "mimetype": "text/x-r-source",
   "name": "R",
   "pygments_lexer": "r",
   "version": "4.2.1"
  },
  "orig_nbformat": 4
 },
 "nbformat": 4,
 "nbformat_minor": 2
}
