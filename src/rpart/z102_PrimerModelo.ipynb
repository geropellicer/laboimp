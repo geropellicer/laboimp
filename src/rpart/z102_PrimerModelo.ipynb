{
 "cells": [
  {
   "cell_type": "markdown",
   "metadata": {},
   "source": [
    "## Arbol elemental con libreria  rpart"
   ]
  },
  {
   "cell_type": "markdown",
   "metadata": {},
   "source": [
    "Debe tener instaladas las librerias  data.table  ,  rpart   y rpart.plot"
   ]
  },
  {
   "cell_type": "code",
   "execution_count": 46,
   "metadata": {
    "vscode": {
     "languageId": "r"
    }
   },
   "outputs": [],
   "source": [
    "#cargo las librerias que necesito\n",
    "require(\"data.table\")\n",
    "require(\"rpart\")\n",
    "require(\"rpart.plot\")"
   ]
  },
  {
   "cell_type": "markdown",
   "metadata": {},
   "source": [
    "Aqui se debe poner la carpeta de SU computadora local"
   ]
  },
  {
   "cell_type": "code",
   "execution_count": 47,
   "metadata": {
    "vscode": {
     "languageId": "r"
    }
   },
   "outputs": [],
   "source": [
    "setwd(\"/home/devsar/Documents/Austral/Laboratorio de Implementación\")  #Establezco el Working Directory"
   ]
  },
  {
   "cell_type": "markdown",
   "metadata": {},
   "source": [
    "cargo el dataset"
   ]
  },
  {
   "cell_type": "code",
   "execution_count": 48,
   "metadata": {
    "vscode": {
     "languageId": "r"
    }
   },
   "outputs": [
    {
     "data": {
      "text/html": [
       "<table class=\"dataframe\">\n",
       "<caption>A data.table: 100 × 7</caption>\n",
       "<thead>\n",
       "\t<tr><th scope=col>Visa_fechaalta</th><th scope=col>Visa_mconsumototal</th><th scope=col>Visa_cconsumos</th><th scope=col>Visa_cadelantosefectivo</th><th scope=col>Visa_mpagominimo</th><th scope=col>clase_ternaria</th><th scope=col>clase_binaria</th></tr>\n",
       "\t<tr><th scope=col>&lt;int&gt;</th><th scope=col>&lt;dbl&gt;</th><th scope=col>&lt;int&gt;</th><th scope=col>&lt;int&gt;</th><th scope=col>&lt;dbl&gt;</th><th scope=col>&lt;chr&gt;</th><th scope=col>&lt;chr&gt;</th></tr>\n",
       "</thead>\n",
       "<tbody>\n",
       "\t<tr><td>3997</td><td> 18435.59</td><td> 1</td><td> 0</td><td> 1337.22</td><td>CONTINUA</td><td>NO</td></tr>\n",
       "\t<tr><td>  NA</td><td>       NA</td><td>NA</td><td>NA</td><td>      NA</td><td>CONTINUA</td><td>NO</td></tr>\n",
       "\t<tr><td>1573</td><td> 12033.40</td><td> 4</td><td> 0</td><td>20011.38</td><td>CONTINUA</td><td>NO</td></tr>\n",
       "\t<tr><td>2063</td><td>   758.21</td><td> 3</td><td> 0</td><td> 1302.03</td><td>CONTINUA</td><td>NO</td></tr>\n",
       "\t<tr><td>5842</td><td>  6316.13</td><td> 1</td><td> 0</td><td> 4680.27</td><td>CONTINUA</td><td>NO</td></tr>\n",
       "\t<tr><td>3121</td><td> 37036.92</td><td>17</td><td> 0</td><td> 4093.77</td><td>CONTINUA</td><td>NO</td></tr>\n",
       "\t<tr><td>4329</td><td>  5630.78</td><td>12</td><td> 0</td><td> 2193.51</td><td>CONTINUA</td><td>NO</td></tr>\n",
       "\t<tr><td>2147</td><td> 20320.24</td><td>28</td><td> 0</td><td> 2252.16</td><td>CONTINUA</td><td>NO</td></tr>\n",
       "\t<tr><td>3444</td><td> 20214.55</td><td> 9</td><td> 0</td><td> 3178.83</td><td>CONTINUA</td><td>NO</td></tr>\n",
       "\t<tr><td>8606</td><td> 68352.93</td><td>28</td><td> 0</td><td> 4269.72</td><td>CONTINUA</td><td>NO</td></tr>\n",
       "\t<tr><td>3762</td><td> 23676.91</td><td> 8</td><td> 0</td><td> 1618.74</td><td>CONTINUA</td><td>NO</td></tr>\n",
       "\t<tr><td>8084</td><td>  4680.55</td><td> 8</td><td> 0</td><td>  234.60</td><td>CONTINUA</td><td>NO</td></tr>\n",
       "\t<tr><td>5709</td><td> 55701.50</td><td>14</td><td> 0</td><td> 4680.27</td><td>CONTINUA</td><td>NO</td></tr>\n",
       "\t<tr><td>1617</td><td>   522.55</td><td> 2</td><td> 0</td><td>    0.00</td><td>CONTINUA</td><td>NO</td></tr>\n",
       "\t<tr><td>1623</td><td> 18030.22</td><td> 7</td><td> 0</td><td>  926.67</td><td>CONTINUA</td><td>NO</td></tr>\n",
       "\t<tr><td>5128</td><td> 13414.94</td><td>12</td><td> 0</td><td> 1736.04</td><td>CONTINUA</td><td>NO</td></tr>\n",
       "\t<tr><td>2413</td><td>     0.00</td><td> 0</td><td> 0</td><td>  621.69</td><td>CONTINUA</td><td>NO</td></tr>\n",
       "\t<tr><td>8081</td><td> 12761.33</td><td> 7</td><td> 0</td><td>  961.86</td><td>CONTINUA</td><td>NO</td></tr>\n",
       "\t<tr><td>3505</td><td>   608.96</td><td> 3</td><td> 0</td><td> 1313.76</td><td>CONTINUA</td><td>NO</td></tr>\n",
       "\t<tr><td>5262</td><td>  5458.13</td><td> 1</td><td> 0</td><td>  281.52</td><td>CONTINUA</td><td>NO</td></tr>\n",
       "\t<tr><td>5653</td><td>  3148.89</td><td> 3</td><td> 0</td><td>  152.49</td><td>CONTINUA</td><td>NO</td></tr>\n",
       "\t<tr><td>4322</td><td>  8021.41</td><td> 1</td><td> 0</td><td>    0.00</td><td>CONTINUA</td><td>NO</td></tr>\n",
       "\t<tr><td>4830</td><td> 21245.77</td><td> 4</td><td> 0</td><td> 1853.34</td><td>CONTINUA</td><td>NO</td></tr>\n",
       "\t<tr><td>3555</td><td> 41675.93</td><td>13</td><td> 0</td><td> 2615.79</td><td>CONTINUA</td><td>NO</td></tr>\n",
       "\t<tr><td>  NA</td><td>       NA</td><td>NA</td><td>NA</td><td>      NA</td><td>CONTINUA</td><td>NO</td></tr>\n",
       "\t<tr><td>8039</td><td> 17995.81</td><td> 5</td><td> 0</td><td> 1442.79</td><td>CONTINUA</td><td>NO</td></tr>\n",
       "\t<tr><td>5103</td><td>  3002.88</td><td> 2</td><td> 0</td><td>  598.23</td><td>BAJA+1  </td><td>SI</td></tr>\n",
       "\t<tr><td>7662</td><td>  5769.34</td><td> 4</td><td> 0</td><td>  633.42</td><td>CONTINUA</td><td>NO</td></tr>\n",
       "\t<tr><td>5674</td><td>110949.20</td><td>27</td><td> 0</td><td> 7143.57</td><td>CONTINUA</td><td>NO</td></tr>\n",
       "\t<tr><td>9463</td><td> 25962.54</td><td> 9</td><td> 0</td><td>19471.80</td><td>CONTINUA</td><td>NO</td></tr>\n",
       "\t<tr><td>⋮</td><td>⋮</td><td>⋮</td><td>⋮</td><td>⋮</td><td>⋮</td><td>⋮</td></tr>\n",
       "\t<tr><td>5177</td><td>10655.43</td><td> 7</td><td> 0</td><td> 1900.26</td><td>CONTINUA</td><td>NO</td></tr>\n",
       "\t<tr><td>5684</td><td>61557.37</td><td>12</td><td> 0</td><td>24949.71</td><td>CONTINUA</td><td>NO</td></tr>\n",
       "\t<tr><td>  NA</td><td>      NA</td><td>NA</td><td>NA</td><td>      NA</td><td>CONTINUA</td><td>NO</td></tr>\n",
       "\t<tr><td>2574</td><td> 1253.01</td><td> 1</td><td> 0</td><td>    0.00</td><td>CONTINUA</td><td>NO</td></tr>\n",
       "\t<tr><td>6048</td><td>29960.89</td><td>13</td><td> 0</td><td>15166.89</td><td>CONTINUA</td><td>NO</td></tr>\n",
       "\t<tr><td>4835</td><td>22387.42</td><td>10</td><td> 0</td><td> 3014.61</td><td>CONTINUA</td><td>NO</td></tr>\n",
       "\t<tr><td>5996</td><td>77124.25</td><td>18</td><td> 0</td><td> 8762.31</td><td>CONTINUA</td><td>NO</td></tr>\n",
       "\t<tr><td>5262</td><td>    0.00</td><td> 0</td><td> 0</td><td>    0.00</td><td>CONTINUA</td><td>NO</td></tr>\n",
       "\t<tr><td>6256</td><td>17864.30</td><td>13</td><td> 0</td><td> 1759.50</td><td>CONTINUA</td><td>NO</td></tr>\n",
       "\t<tr><td>5976</td><td>      NA</td><td>NA</td><td>NA</td><td>    0.00</td><td>CONTINUA</td><td>NO</td></tr>\n",
       "\t<tr><td> 776</td><td>74504.97</td><td>33</td><td> 0</td><td> 5571.75</td><td>CONTINUA</td><td>NO</td></tr>\n",
       "\t<tr><td>9229</td><td> 9566.26</td><td> 4</td><td> 0</td><td>  492.66</td><td>CONTINUA</td><td>NO</td></tr>\n",
       "\t<tr><td>7376</td><td> 2410.51</td><td> 1</td><td> 0</td><td>  117.30</td><td>CONTINUA</td><td>NO</td></tr>\n",
       "\t<tr><td>3954</td><td> 4268.48</td><td> 4</td><td> 0</td><td> 6123.06</td><td>CONTINUA</td><td>NO</td></tr>\n",
       "\t<tr><td>4815</td><td>11726.16</td><td> 4</td><td> 0</td><td> 8023.32</td><td>CONTINUA</td><td>NO</td></tr>\n",
       "\t<tr><td>4322</td><td>38479.09</td><td> 5</td><td> 0</td><td> 3694.95</td><td>CONTINUA</td><td>NO</td></tr>\n",
       "\t<tr><td>3196</td><td>    0.00</td><td> 0</td><td> 0</td><td> 2498.49</td><td>CONTINUA</td><td>NO</td></tr>\n",
       "\t<tr><td>8888</td><td> 4548.07</td><td> 3</td><td> 0</td><td>  950.13</td><td>CONTINUA</td><td>NO</td></tr>\n",
       "\t<tr><td> 507</td><td> 3697.28</td><td> 1</td><td> 0</td><td>    0.00</td><td>CONTINUA</td><td>NO</td></tr>\n",
       "\t<tr><td>3919</td><td> 9889.31</td><td> 3</td><td> 0</td><td>  563.04</td><td>CONTINUA</td><td>NO</td></tr>\n",
       "\t<tr><td>7781</td><td>25627.66</td><td>15</td><td> 0</td><td> 1607.01</td><td>CONTINUA</td><td>NO</td></tr>\n",
       "\t<tr><td> 612</td><td> 5092.90</td><td> 3</td><td> 0</td><td> 2791.74</td><td>CONTINUA</td><td>NO</td></tr>\n",
       "\t<tr><td>3534</td><td>12124.96</td><td> 5</td><td> 0</td><td> 1806.42</td><td>CONTINUA</td><td>NO</td></tr>\n",
       "\t<tr><td>8369</td><td> 8527.68</td><td> 4</td><td> 0</td><td>23530.38</td><td>CONTINUA</td><td>NO</td></tr>\n",
       "\t<tr><td>7283</td><td> 3381.34</td><td> 2</td><td> 0</td><td> 1947.18</td><td>CONTINUA</td><td>NO</td></tr>\n",
       "\t<tr><td>3324</td><td>  613.66</td><td> 1</td><td> 0</td><td>    0.00</td><td>CONTINUA</td><td>NO</td></tr>\n",
       "\t<tr><td>4897</td><td>20981.42</td><td> 8</td><td> 0</td><td> 1384.14</td><td>CONTINUA</td><td>NO</td></tr>\n",
       "\t<tr><td>5263</td><td>23914.99</td><td> 4</td><td> 0</td><td> 3131.91</td><td>CONTINUA</td><td>NO</td></tr>\n",
       "\t<tr><td>4959</td><td>    0.00</td><td> 0</td><td> 0</td><td>  621.69</td><td>CONTINUA</td><td>NO</td></tr>\n",
       "\t<tr><td>8816</td><td>41131.40</td><td> 8</td><td> 0</td><td> 2134.86</td><td>CONTINUA</td><td>NO</td></tr>\n",
       "</tbody>\n",
       "</table>\n"
      ],
      "text/latex": [
       "A data.table: 100 × 7\n",
       "\\begin{tabular}{lllllll}\n",
       " Visa\\_fechaalta & Visa\\_mconsumototal & Visa\\_cconsumos & Visa\\_cadelantosefectivo & Visa\\_mpagominimo & clase\\_ternaria & clase\\_binaria\\\\\n",
       " <int> & <dbl> & <int> & <int> & <dbl> & <chr> & <chr>\\\\\n",
       "\\hline\n",
       "\t 3997 &  18435.59 &  1 &  0 &  1337.22 & CONTINUA & NO\\\\\n",
       "\t   NA &        NA & NA & NA &       NA & CONTINUA & NO\\\\\n",
       "\t 1573 &  12033.40 &  4 &  0 & 20011.38 & CONTINUA & NO\\\\\n",
       "\t 2063 &    758.21 &  3 &  0 &  1302.03 & CONTINUA & NO\\\\\n",
       "\t 5842 &   6316.13 &  1 &  0 &  4680.27 & CONTINUA & NO\\\\\n",
       "\t 3121 &  37036.92 & 17 &  0 &  4093.77 & CONTINUA & NO\\\\\n",
       "\t 4329 &   5630.78 & 12 &  0 &  2193.51 & CONTINUA & NO\\\\\n",
       "\t 2147 &  20320.24 & 28 &  0 &  2252.16 & CONTINUA & NO\\\\\n",
       "\t 3444 &  20214.55 &  9 &  0 &  3178.83 & CONTINUA & NO\\\\\n",
       "\t 8606 &  68352.93 & 28 &  0 &  4269.72 & CONTINUA & NO\\\\\n",
       "\t 3762 &  23676.91 &  8 &  0 &  1618.74 & CONTINUA & NO\\\\\n",
       "\t 8084 &   4680.55 &  8 &  0 &   234.60 & CONTINUA & NO\\\\\n",
       "\t 5709 &  55701.50 & 14 &  0 &  4680.27 & CONTINUA & NO\\\\\n",
       "\t 1617 &    522.55 &  2 &  0 &     0.00 & CONTINUA & NO\\\\\n",
       "\t 1623 &  18030.22 &  7 &  0 &   926.67 & CONTINUA & NO\\\\\n",
       "\t 5128 &  13414.94 & 12 &  0 &  1736.04 & CONTINUA & NO\\\\\n",
       "\t 2413 &      0.00 &  0 &  0 &   621.69 & CONTINUA & NO\\\\\n",
       "\t 8081 &  12761.33 &  7 &  0 &   961.86 & CONTINUA & NO\\\\\n",
       "\t 3505 &    608.96 &  3 &  0 &  1313.76 & CONTINUA & NO\\\\\n",
       "\t 5262 &   5458.13 &  1 &  0 &   281.52 & CONTINUA & NO\\\\\n",
       "\t 5653 &   3148.89 &  3 &  0 &   152.49 & CONTINUA & NO\\\\\n",
       "\t 4322 &   8021.41 &  1 &  0 &     0.00 & CONTINUA & NO\\\\\n",
       "\t 4830 &  21245.77 &  4 &  0 &  1853.34 & CONTINUA & NO\\\\\n",
       "\t 3555 &  41675.93 & 13 &  0 &  2615.79 & CONTINUA & NO\\\\\n",
       "\t   NA &        NA & NA & NA &       NA & CONTINUA & NO\\\\\n",
       "\t 8039 &  17995.81 &  5 &  0 &  1442.79 & CONTINUA & NO\\\\\n",
       "\t 5103 &   3002.88 &  2 &  0 &   598.23 & BAJA+1   & SI\\\\\n",
       "\t 7662 &   5769.34 &  4 &  0 &   633.42 & CONTINUA & NO\\\\\n",
       "\t 5674 & 110949.20 & 27 &  0 &  7143.57 & CONTINUA & NO\\\\\n",
       "\t 9463 &  25962.54 &  9 &  0 & 19471.80 & CONTINUA & NO\\\\\n",
       "\t ⋮ & ⋮ & ⋮ & ⋮ & ⋮ & ⋮ & ⋮\\\\\n",
       "\t 5177 & 10655.43 &  7 &  0 &  1900.26 & CONTINUA & NO\\\\\n",
       "\t 5684 & 61557.37 & 12 &  0 & 24949.71 & CONTINUA & NO\\\\\n",
       "\t   NA &       NA & NA & NA &       NA & CONTINUA & NO\\\\\n",
       "\t 2574 &  1253.01 &  1 &  0 &     0.00 & CONTINUA & NO\\\\\n",
       "\t 6048 & 29960.89 & 13 &  0 & 15166.89 & CONTINUA & NO\\\\\n",
       "\t 4835 & 22387.42 & 10 &  0 &  3014.61 & CONTINUA & NO\\\\\n",
       "\t 5996 & 77124.25 & 18 &  0 &  8762.31 & CONTINUA & NO\\\\\n",
       "\t 5262 &     0.00 &  0 &  0 &     0.00 & CONTINUA & NO\\\\\n",
       "\t 6256 & 17864.30 & 13 &  0 &  1759.50 & CONTINUA & NO\\\\\n",
       "\t 5976 &       NA & NA & NA &     0.00 & CONTINUA & NO\\\\\n",
       "\t  776 & 74504.97 & 33 &  0 &  5571.75 & CONTINUA & NO\\\\\n",
       "\t 9229 &  9566.26 &  4 &  0 &   492.66 & CONTINUA & NO\\\\\n",
       "\t 7376 &  2410.51 &  1 &  0 &   117.30 & CONTINUA & NO\\\\\n",
       "\t 3954 &  4268.48 &  4 &  0 &  6123.06 & CONTINUA & NO\\\\\n",
       "\t 4815 & 11726.16 &  4 &  0 &  8023.32 & CONTINUA & NO\\\\\n",
       "\t 4322 & 38479.09 &  5 &  0 &  3694.95 & CONTINUA & NO\\\\\n",
       "\t 3196 &     0.00 &  0 &  0 &  2498.49 & CONTINUA & NO\\\\\n",
       "\t 8888 &  4548.07 &  3 &  0 &   950.13 & CONTINUA & NO\\\\\n",
       "\t  507 &  3697.28 &  1 &  0 &     0.00 & CONTINUA & NO\\\\\n",
       "\t 3919 &  9889.31 &  3 &  0 &   563.04 & CONTINUA & NO\\\\\n",
       "\t 7781 & 25627.66 & 15 &  0 &  1607.01 & CONTINUA & NO\\\\\n",
       "\t  612 &  5092.90 &  3 &  0 &  2791.74 & CONTINUA & NO\\\\\n",
       "\t 3534 & 12124.96 &  5 &  0 &  1806.42 & CONTINUA & NO\\\\\n",
       "\t 8369 &  8527.68 &  4 &  0 & 23530.38 & CONTINUA & NO\\\\\n",
       "\t 7283 &  3381.34 &  2 &  0 &  1947.18 & CONTINUA & NO\\\\\n",
       "\t 3324 &   613.66 &  1 &  0 &     0.00 & CONTINUA & NO\\\\\n",
       "\t 4897 & 20981.42 &  8 &  0 &  1384.14 & CONTINUA & NO\\\\\n",
       "\t 5263 & 23914.99 &  4 &  0 &  3131.91 & CONTINUA & NO\\\\\n",
       "\t 4959 &     0.00 &  0 &  0 &   621.69 & CONTINUA & NO\\\\\n",
       "\t 8816 & 41131.40 &  8 &  0 &  2134.86 & CONTINUA & NO\\\\\n",
       "\\end{tabular}\n"
      ],
      "text/markdown": [
       "\n",
       "A data.table: 100 × 7\n",
       "\n",
       "| Visa_fechaalta &lt;int&gt; | Visa_mconsumototal &lt;dbl&gt; | Visa_cconsumos &lt;int&gt; | Visa_cadelantosefectivo &lt;int&gt; | Visa_mpagominimo &lt;dbl&gt; | clase_ternaria &lt;chr&gt; | clase_binaria &lt;chr&gt; |\n",
       "|---|---|---|---|---|---|---|\n",
       "| 3997 |  18435.59 |  1 |  0 |  1337.22 | CONTINUA | NO |\n",
       "|   NA |        NA | NA | NA |       NA | CONTINUA | NO |\n",
       "| 1573 |  12033.40 |  4 |  0 | 20011.38 | CONTINUA | NO |\n",
       "| 2063 |    758.21 |  3 |  0 |  1302.03 | CONTINUA | NO |\n",
       "| 5842 |   6316.13 |  1 |  0 |  4680.27 | CONTINUA | NO |\n",
       "| 3121 |  37036.92 | 17 |  0 |  4093.77 | CONTINUA | NO |\n",
       "| 4329 |   5630.78 | 12 |  0 |  2193.51 | CONTINUA | NO |\n",
       "| 2147 |  20320.24 | 28 |  0 |  2252.16 | CONTINUA | NO |\n",
       "| 3444 |  20214.55 |  9 |  0 |  3178.83 | CONTINUA | NO |\n",
       "| 8606 |  68352.93 | 28 |  0 |  4269.72 | CONTINUA | NO |\n",
       "| 3762 |  23676.91 |  8 |  0 |  1618.74 | CONTINUA | NO |\n",
       "| 8084 |   4680.55 |  8 |  0 |   234.60 | CONTINUA | NO |\n",
       "| 5709 |  55701.50 | 14 |  0 |  4680.27 | CONTINUA | NO |\n",
       "| 1617 |    522.55 |  2 |  0 |     0.00 | CONTINUA | NO |\n",
       "| 1623 |  18030.22 |  7 |  0 |   926.67 | CONTINUA | NO |\n",
       "| 5128 |  13414.94 | 12 |  0 |  1736.04 | CONTINUA | NO |\n",
       "| 2413 |      0.00 |  0 |  0 |   621.69 | CONTINUA | NO |\n",
       "| 8081 |  12761.33 |  7 |  0 |   961.86 | CONTINUA | NO |\n",
       "| 3505 |    608.96 |  3 |  0 |  1313.76 | CONTINUA | NO |\n",
       "| 5262 |   5458.13 |  1 |  0 |   281.52 | CONTINUA | NO |\n",
       "| 5653 |   3148.89 |  3 |  0 |   152.49 | CONTINUA | NO |\n",
       "| 4322 |   8021.41 |  1 |  0 |     0.00 | CONTINUA | NO |\n",
       "| 4830 |  21245.77 |  4 |  0 |  1853.34 | CONTINUA | NO |\n",
       "| 3555 |  41675.93 | 13 |  0 |  2615.79 | CONTINUA | NO |\n",
       "|   NA |        NA | NA | NA |       NA | CONTINUA | NO |\n",
       "| 8039 |  17995.81 |  5 |  0 |  1442.79 | CONTINUA | NO |\n",
       "| 5103 |   3002.88 |  2 |  0 |   598.23 | BAJA+1   | SI |\n",
       "| 7662 |   5769.34 |  4 |  0 |   633.42 | CONTINUA | NO |\n",
       "| 5674 | 110949.20 | 27 |  0 |  7143.57 | CONTINUA | NO |\n",
       "| 9463 |  25962.54 |  9 |  0 | 19471.80 | CONTINUA | NO |\n",
       "| ⋮ | ⋮ | ⋮ | ⋮ | ⋮ | ⋮ | ⋮ |\n",
       "| 5177 | 10655.43 |  7 |  0 |  1900.26 | CONTINUA | NO |\n",
       "| 5684 | 61557.37 | 12 |  0 | 24949.71 | CONTINUA | NO |\n",
       "|   NA |       NA | NA | NA |       NA | CONTINUA | NO |\n",
       "| 2574 |  1253.01 |  1 |  0 |     0.00 | CONTINUA | NO |\n",
       "| 6048 | 29960.89 | 13 |  0 | 15166.89 | CONTINUA | NO |\n",
       "| 4835 | 22387.42 | 10 |  0 |  3014.61 | CONTINUA | NO |\n",
       "| 5996 | 77124.25 | 18 |  0 |  8762.31 | CONTINUA | NO |\n",
       "| 5262 |     0.00 |  0 |  0 |     0.00 | CONTINUA | NO |\n",
       "| 6256 | 17864.30 | 13 |  0 |  1759.50 | CONTINUA | NO |\n",
       "| 5976 |       NA | NA | NA |     0.00 | CONTINUA | NO |\n",
       "|  776 | 74504.97 | 33 |  0 |  5571.75 | CONTINUA | NO |\n",
       "| 9229 |  9566.26 |  4 |  0 |   492.66 | CONTINUA | NO |\n",
       "| 7376 |  2410.51 |  1 |  0 |   117.30 | CONTINUA | NO |\n",
       "| 3954 |  4268.48 |  4 |  0 |  6123.06 | CONTINUA | NO |\n",
       "| 4815 | 11726.16 |  4 |  0 |  8023.32 | CONTINUA | NO |\n",
       "| 4322 | 38479.09 |  5 |  0 |  3694.95 | CONTINUA | NO |\n",
       "| 3196 |     0.00 |  0 |  0 |  2498.49 | CONTINUA | NO |\n",
       "| 8888 |  4548.07 |  3 |  0 |   950.13 | CONTINUA | NO |\n",
       "|  507 |  3697.28 |  1 |  0 |     0.00 | CONTINUA | NO |\n",
       "| 3919 |  9889.31 |  3 |  0 |   563.04 | CONTINUA | NO |\n",
       "| 7781 | 25627.66 | 15 |  0 |  1607.01 | CONTINUA | NO |\n",
       "|  612 |  5092.90 |  3 |  0 |  2791.74 | CONTINUA | NO |\n",
       "| 3534 | 12124.96 |  5 |  0 |  1806.42 | CONTINUA | NO |\n",
       "| 8369 |  8527.68 |  4 |  0 | 23530.38 | CONTINUA | NO |\n",
       "| 7283 |  3381.34 |  2 |  0 |  1947.18 | CONTINUA | NO |\n",
       "| 3324 |   613.66 |  1 |  0 |     0.00 | CONTINUA | NO |\n",
       "| 4897 | 20981.42 |  8 |  0 |  1384.14 | CONTINUA | NO |\n",
       "| 5263 | 23914.99 |  4 |  0 |  3131.91 | CONTINUA | NO |\n",
       "| 4959 |     0.00 |  0 |  0 |   621.69 | CONTINUA | NO |\n",
       "| 8816 | 41131.40 |  8 |  0 |  2134.86 | CONTINUA | NO |\n",
       "\n"
      ],
      "text/plain": [
       "    Visa_fechaalta Visa_mconsumototal Visa_cconsumos Visa_cadelantosefectivo\n",
       "1   3997            18435.59           1              0                     \n",
       "2     NA                  NA          NA             NA                     \n",
       "3   1573            12033.40           4              0                     \n",
       "4   2063              758.21           3              0                     \n",
       "5   5842             6316.13           1              0                     \n",
       "6   3121            37036.92          17              0                     \n",
       "7   4329             5630.78          12              0                     \n",
       "8   2147            20320.24          28              0                     \n",
       "9   3444            20214.55           9              0                     \n",
       "10  8606            68352.93          28              0                     \n",
       "11  3762            23676.91           8              0                     \n",
       "12  8084             4680.55           8              0                     \n",
       "13  5709            55701.50          14              0                     \n",
       "14  1617              522.55           2              0                     \n",
       "15  1623            18030.22           7              0                     \n",
       "16  5128            13414.94          12              0                     \n",
       "17  2413                0.00           0              0                     \n",
       "18  8081            12761.33           7              0                     \n",
       "19  3505              608.96           3              0                     \n",
       "20  5262             5458.13           1              0                     \n",
       "21  5653             3148.89           3              0                     \n",
       "22  4322             8021.41           1              0                     \n",
       "23  4830            21245.77           4              0                     \n",
       "24  3555            41675.93          13              0                     \n",
       "25    NA                  NA          NA             NA                     \n",
       "26  8039            17995.81           5              0                     \n",
       "27  5103             3002.88           2              0                     \n",
       "28  7662             5769.34           4              0                     \n",
       "29  5674           110949.20          27              0                     \n",
       "30  9463            25962.54           9              0                     \n",
       "⋮   ⋮              ⋮                  ⋮              ⋮                      \n",
       "71  5177           10655.43            7              0                     \n",
       "72  5684           61557.37           12              0                     \n",
       "73    NA                 NA           NA             NA                     \n",
       "74  2574            1253.01            1              0                     \n",
       "75  6048           29960.89           13              0                     \n",
       "76  4835           22387.42           10              0                     \n",
       "77  5996           77124.25           18              0                     \n",
       "78  5262               0.00            0              0                     \n",
       "79  6256           17864.30           13              0                     \n",
       "80  5976                 NA           NA             NA                     \n",
       "81   776           74504.97           33              0                     \n",
       "82  9229            9566.26            4              0                     \n",
       "83  7376            2410.51            1              0                     \n",
       "84  3954            4268.48            4              0                     \n",
       "85  4815           11726.16            4              0                     \n",
       "86  4322           38479.09            5              0                     \n",
       "87  3196               0.00            0              0                     \n",
       "88  8888            4548.07            3              0                     \n",
       "89   507            3697.28            1              0                     \n",
       "90  3919            9889.31            3              0                     \n",
       "91  7781           25627.66           15              0                     \n",
       "92   612            5092.90            3              0                     \n",
       "93  3534           12124.96            5              0                     \n",
       "94  8369            8527.68            4              0                     \n",
       "95  7283            3381.34            2              0                     \n",
       "96  3324             613.66            1              0                     \n",
       "97  4897           20981.42            8              0                     \n",
       "98  5263           23914.99            4              0                     \n",
       "99  4959               0.00            0              0                     \n",
       "100 8816           41131.40            8              0                     \n",
       "    Visa_mpagominimo clase_ternaria clase_binaria\n",
       "1    1337.22         CONTINUA       NO           \n",
       "2         NA         CONTINUA       NO           \n",
       "3   20011.38         CONTINUA       NO           \n",
       "4    1302.03         CONTINUA       NO           \n",
       "5    4680.27         CONTINUA       NO           \n",
       "6    4093.77         CONTINUA       NO           \n",
       "7    2193.51         CONTINUA       NO           \n",
       "8    2252.16         CONTINUA       NO           \n",
       "9    3178.83         CONTINUA       NO           \n",
       "10   4269.72         CONTINUA       NO           \n",
       "11   1618.74         CONTINUA       NO           \n",
       "12    234.60         CONTINUA       NO           \n",
       "13   4680.27         CONTINUA       NO           \n",
       "14      0.00         CONTINUA       NO           \n",
       "15    926.67         CONTINUA       NO           \n",
       "16   1736.04         CONTINUA       NO           \n",
       "17    621.69         CONTINUA       NO           \n",
       "18    961.86         CONTINUA       NO           \n",
       "19   1313.76         CONTINUA       NO           \n",
       "20    281.52         CONTINUA       NO           \n",
       "21    152.49         CONTINUA       NO           \n",
       "22      0.00         CONTINUA       NO           \n",
       "23   1853.34         CONTINUA       NO           \n",
       "24   2615.79         CONTINUA       NO           \n",
       "25        NA         CONTINUA       NO           \n",
       "26   1442.79         CONTINUA       NO           \n",
       "27    598.23         BAJA+1         SI           \n",
       "28    633.42         CONTINUA       NO           \n",
       "29   7143.57         CONTINUA       NO           \n",
       "30  19471.80         CONTINUA       NO           \n",
       "⋮   ⋮                ⋮              ⋮            \n",
       "71   1900.26         CONTINUA       NO           \n",
       "72  24949.71         CONTINUA       NO           \n",
       "73        NA         CONTINUA       NO           \n",
       "74      0.00         CONTINUA       NO           \n",
       "75  15166.89         CONTINUA       NO           \n",
       "76   3014.61         CONTINUA       NO           \n",
       "77   8762.31         CONTINUA       NO           \n",
       "78      0.00         CONTINUA       NO           \n",
       "79   1759.50         CONTINUA       NO           \n",
       "80      0.00         CONTINUA       NO           \n",
       "81   5571.75         CONTINUA       NO           \n",
       "82    492.66         CONTINUA       NO           \n",
       "83    117.30         CONTINUA       NO           \n",
       "84   6123.06         CONTINUA       NO           \n",
       "85   8023.32         CONTINUA       NO           \n",
       "86   3694.95         CONTINUA       NO           \n",
       "87   2498.49         CONTINUA       NO           \n",
       "88    950.13         CONTINUA       NO           \n",
       "89      0.00         CONTINUA       NO           \n",
       "90    563.04         CONTINUA       NO           \n",
       "91   1607.01         CONTINUA       NO           \n",
       "92   2791.74         CONTINUA       NO           \n",
       "93   1806.42         CONTINUA       NO           \n",
       "94  23530.38         CONTINUA       NO           \n",
       "95   1947.18         CONTINUA       NO           \n",
       "96      0.00         CONTINUA       NO           \n",
       "97   1384.14         CONTINUA       NO           \n",
       "98   3131.91         CONTINUA       NO           \n",
       "99    621.69         CONTINUA       NO           \n",
       "100  2134.86         CONTINUA       NO           "
      ]
     },
     "metadata": {},
     "output_type": "display_data"
    }
   ],
   "source": [
    "dataset  <- fread(\"./datasets/competencia1_2022.csv\")\n",
    "dataset <- dataset[,clase_binaria:=ifelse(clase_ternaria==\"CONTINUA\", \"NO\", \"SI\")]\n",
    "dataset[1:100, 150:156]"
   ]
  },
  {
   "cell_type": "markdown",
   "metadata": {},
   "source": [
    "defino donde entreno y donde aplico el modelo"
   ]
  },
  {
   "cell_type": "code",
   "execution_count": 49,
   "metadata": {
    "vscode": {
     "languageId": "r"
    }
   },
   "outputs": [],
   "source": [
    "dtrain  <- dataset[ foto_mes==202101 ]  #defino donde voy a entrenar\n",
    "dapply  <- dataset[ foto_mes==202103 ]  #defino donde voy a aplicar el modelo"
   ]
  },
  {
   "cell_type": "markdown",
   "metadata": {},
   "source": [
    "genero el modelo,  aqui se construye el arbol"
   ]
  },
  {
   "cell_type": "code",
   "execution_count": 50,
   "metadata": {
    "vscode": {
     "languageId": "r"
    }
   },
   "outputs": [],
   "source": [
    "modelo  <- rpart(formula=    \"clase_binaria ~ . -clase_ternaria\", #quiero predecir clase_ternaria a partir de el resto de las variables\n",
    "                 data =      dtrain,  #los datos donde voy a entrenar\n",
    "                 xval=       0,\n",
    "                 cp=        -1, #esto significa no limitar la complejidad de los splits\n",
    "                 minsplit= 1100,   #minima cantidad de registros para que se haga el split\n",
    "                 minbucket=  4,   #tamaño minimo de una hoja\n",
    "                 maxdepth=  13 )  #PRUEBO  una profundidad de 10"
   ]
  },
  {
   "cell_type": "markdown",
   "metadata": {},
   "source": [
    "Ahora grafico el arbol, va a ser muy frondoso porque la profundidad es de 10"
   ]
  },
  {
   "cell_type": "code",
   "execution_count": 51,
   "metadata": {
    "vscode": {
     "languageId": "r"
    }
   },
   "outputs": [
    {
     "name": "stderr",
     "output_type": "stream",
     "text": [
      "Warning message:\n",
      "“labs do not fit even at cex 0.15, there may be some overplotting”\n"
     ]
    },
    {
     "data": {
      "image/png": "[encoded data removed]",
      "text/plain": [
       "plot without title"
      ]
     },
     "metadata": {
      "image/png": {
       "height": 420,
       "width": 420
      }
     },
     "output_type": "display_data"
    }
   ],
   "source": [
    "prp(modelo, extra=101, digits=5, branch=1, type=4, varlen=0, faclen=0)"
   ]
  },
  {
   "cell_type": "markdown",
   "metadata": {},
   "source": [
    "Ahora aplico al modelo  a los datos muevos  y genero la salida para kaggle"
   ]
  },
  {
   "cell_type": "markdown",
   "metadata": {},
   "source": [
    "aplico el modelo a los datos nuevos"
   ]
  },
  {
   "cell_type": "code",
   "execution_count": 52,
   "metadata": {
    "vscode": {
     "languageId": "r"
    }
   },
   "outputs": [],
   "source": [
    "prediccion  <- predict( modelo, dapply , type = \"prob\") #aplico el modelo"
   ]
  },
  {
   "cell_type": "markdown",
   "metadata": {},
   "source": [
    "prediccion es una matriz con TRES columnas, llamadas \"BAJA+1\", \"BAJA+2\"  y \"CONTINUA\"\n",
    "cada columna es el vector de probabilidades "
   ]
  },
  {
   "cell_type": "markdown",
   "metadata": {},
   "source": [
    "agrego a dapply una columna nueva que es la probabilidad de BAJA+2"
   ]
  },
  {
   "cell_type": "code",
   "execution_count": 53,
   "metadata": {
    "vscode": {
     "languageId": "r"
    }
   },
   "outputs": [],
   "source": [
    "dapply[ , prob_baja2 := prediccion[, \"SI\"] ]"
   ]
  },
  {
   "cell_type": "markdown",
   "metadata": {},
   "source": [
    "solo le envio estimulo a los registros con probabilidad de BAJA+2 mayor  a  1/40"
   ]
  },
  {
   "cell_type": "code",
   "execution_count": 54,
   "metadata": {
    "vscode": {
     "languageId": "r"
    }
   },
   "outputs": [],
   "source": [
    "dapply[ , Predicted  := as.numeric(prob_baja2 > 0.039) ]"
   ]
  },
  {
   "cell_type": "markdown",
   "metadata": {},
   "source": [
    "Finalmente genero el archivo para Kaggle"
   ]
  },
  {
   "cell_type": "markdown",
   "metadata": {},
   "source": [
    "creo la carpeta donde va el experimento"
   ]
  },
  {
   "cell_type": "code",
   "execution_count": 55,
   "metadata": {
    "vscode": {
     "languageId": "r"
    }
   },
   "outputs": [
    {
     "name": "stderr",
     "output_type": "stream",
     "text": [
      "Warning message in dir.create(\"./exp/KA2002\"):\n",
      "“'./exp/KA2002' already exists”\n"
     ]
    }
   ],
   "source": [
    "dir.create( \"./exp/KA2002\" ) "
   ]
  },
  {
   "cell_type": "markdown",
   "metadata": {},
   "source": [
    "grabo el dataset"
   ]
  },
  {
   "cell_type": "code",
   "execution_count": 56,
   "metadata": {
    "vscode": {
     "languageId": "r"
    }
   },
   "outputs": [],
   "source": [
    "fwrite( dapply[ , list(numero_de_cliente, Predicted) ], #solo los campos para Kaggle\n",
    "        file= \"./exp/KA2002/KA2002_001_BINARIO_5.csv\", \n",
    "        sep= \",\" )"
   ]
  }
 ],
 "metadata": {
  "kernelspec": {
   "display_name": "R",
   "language": "R",
   "name": "ir"
  },
  "language_info": {
   "codemirror_mode": "r",
   "file_extension": ".r",
   "mimetype": "text/x-r-source",
   "name": "R",
   "pygments_lexer": "r",
   "version": "4.2.1"
  }
 },
 "nbformat": 4,
 "nbformat_minor": 4
}
