{
 "cells": [
  {
   "cell_type": "code",
   "execution_count": 5,
   "id": "1069511e-1627-45a0-b841-d5c742f4dbe4",
   "metadata": {
    "vscode": {
     "languageId": "r"
    }
   },
   "outputs": [
    {
     "data": {
      "text/html": [
       "<table class=\"dataframe\">\n",
       "<caption>A matrix: 2 × 6 of type dbl</caption>\n",
       "<thead>\n",
       "\t<tr><th></th><th scope=col>used</th><th scope=col>(Mb)</th><th scope=col>gc trigger</th><th scope=col>(Mb)</th><th scope=col>max used</th><th scope=col>(Mb)</th></tr>\n",
       "</thead>\n",
       "<tbody>\n",
       "\t<tr><th scope=row>Ncells</th><td> 683332</td><td>36.5</td><td> 1335898</td><td> 71.4</td><td> 1335898</td><td> 71.4</td></tr>\n",
       "\t<tr><th scope=row>Vcells</th><td>1369447</td><td>10.5</td><td>52353722</td><td>399.5</td><td>70711694</td><td>539.5</td></tr>\n",
       "</tbody>\n",
       "</table>\n"
      ],
      "text/latex": [
       "A matrix: 2 × 6 of type dbl\n",
       "\\begin{tabular}{r|llllll}\n",
       "  & used & (Mb) & gc trigger & (Mb) & max used & (Mb)\\\\\n",
       "\\hline\n",
       "\tNcells &  683332 & 36.5 &  1335898 &  71.4 &  1335898 &  71.4\\\\\n",
       "\tVcells & 1369447 & 10.5 & 52353722 & 399.5 & 70711694 & 539.5\\\\\n",
       "\\end{tabular}\n"
      ],
      "text/markdown": [
       "\n",
       "A matrix: 2 × 6 of type dbl\n",
       "\n",
       "| <!--/--> | used | (Mb) | gc trigger | (Mb) | max used | (Mb) |\n",
       "|---|---|---|---|---|---|---|\n",
       "| Ncells |  683332 | 36.5 |  1335898 |  71.4 |  1335898 |  71.4 |\n",
       "| Vcells | 1369447 | 10.5 | 52353722 | 399.5 | 70711694 | 539.5 |\n",
       "\n"
      ],
      "text/plain": [
       "       used    (Mb) gc trigger (Mb)  max used (Mb) \n",
       "Ncells  683332 36.5  1335898    71.4  1335898  71.4\n",
       "Vcells 1369447 10.5 52353722   399.5 70711694 539.5"
      ]
     },
     "metadata": {},
     "output_type": "display_data"
    }
   ],
   "source": [
    "#Feature Engineering\n",
    "#creo nuevas variables dentro del mismo mes\n",
    "#Condimentar a gusto con nuevas variables\n",
    "\n",
    "#limpio la memoria\n",
    "rm( list=ls() )\n",
    "gc()\n",
    "\n",
    "require(\"data.table\")\n",
    "\n",
    "#Establezco el Working Directory\n",
    "setwd(\"/home/devsar/Documents/Austral/Laboratorio de Implementación\")\n",
    "\n",
    "\n",
    "EnriquecerDataset <- function( dataset , arch_destino )\n",
    "{\n",
    "  columnas_originales <-  copy(colnames( dataset ))\n",
    "\n",
    "  #INICIO de la seccion donde se deben hacer cambios con variables nuevas\n",
    "  #se crean los nuevos campos para MasterCard  y Visa, teniendo en cuenta los NA's\n",
    "  #varias formas de combinar Visa_status y Master_status\n",
    "  dataset[ , mv_status01       := pmax( Master_status,  Visa_status, na.rm = TRUE) ]\n",
    "  dataset[ , mv_status02       := Master_status +  Visa_status ]\n",
    "  dataset[ , mv_status03       := pmax( ifelse( is.na(Master_status), 10, Master_status) , ifelse( is.na(Visa_status), 10, Visa_status) ) ]\n",
    "  dataset[ , mv_status04       := ifelse( is.na(Master_status), 10, Master_status)  +  ifelse( is.na(Visa_status), 10, Visa_status)  ]\n",
    "  dataset[ , mv_status05       := ifelse( is.na(Master_status), 10, Master_status)  +  100*ifelse( is.na(Visa_status), 10, Visa_status)  ]\n",
    "\n",
    "  dataset[ , mv_status06       := ifelse( is.na(Visa_status), \n",
    "                                          ifelse( is.na(Master_status), 10, Master_status), \n",
    "                                          Visa_status)  ]\n",
    "\n",
    "  dataset[ , mv_status07       := ifelse( is.na(Master_status), \n",
    "                                          ifelse( is.na(Visa_status), 10, Visa_status), \n",
    "                                          Master_status)  ]\n",
    "\n",
    "\n",
    "    \n",
    "  #combino MasterCard y Visa\n",
    "  dataset[ , mv_mfinanciacion_limite := rowSums( cbind( Master_mfinanciacion_limite,  Visa_mfinanciacion_limite) , na.rm=TRUE ) ]\n",
    "\n",
    "  dataset[ , mv_Fvencimiento         := pmin( Master_Fvencimiento, Visa_Fvencimiento, na.rm = TRUE) ]\n",
    "  dataset[ , mv_Finiciomora          := pmin( Master_Finiciomora, Visa_Finiciomora, na.rm = TRUE) ]\n",
    "  dataset[ , mv_msaldototal          := rowSums( cbind( Master_msaldototal,  Visa_msaldototal) , na.rm=TRUE ) ]\n",
    "  dataset[ , mv_mconsumospesos       := rowSums( cbind( Master_mconsumospesos,  Visa_mconsumospesos) , na.rm=TRUE ) ]\n",
    "  dataset[ , mv_mconsumosdolares     := rowSums( cbind( Master_mconsumosdolares,  Visa_mconsumosdolares) , na.rm=TRUE ) ]\n",
    "  dataset[ , mv_mlimitecompra        := rowSums( cbind( Master_mlimitecompra,  Visa_mlimitecompra) , na.rm=TRUE ) ]\n",
    "  dataset[ , mv_mpagado              := rowSums( cbind( Master_mpagado,  Visa_mpagado) , na.rm=TRUE ) ]\n",
    "  dataset[ , mv_cconsumos            := rowSums( cbind( Master_cconsumos,  Visa_cconsumos) , na.rm=TRUE ) ]\n",
    "  dataset[ , mv_mpagominimo          := rowSums( cbind( Master_mpagominimo,  Visa_mpagominimo) , na.rm=TRUE ) ]\n",
    "  dataset[ , mv_mpagosdolares          := rowSums( cbind( Master_mpagosdolares,  Visa_mpagosdolares ) , na.rm=TRUE ) ]\n",
    "  dataset[ , mv_msaldodolares          := rowSums( cbind( Master_msaldodolares,  Visa_msaldodolares ) , na.rm=TRUE ) ]\n",
    "  dataset[ , mv_FechaAlta          := pmin( Master_fechaalta,  Visa_fechaalta , na.rm=TRUE ) ]\n",
    "\n",
    "  dataset[, g_prom_90_mayor_prom_30 := ifelse(\n",
    "    (ctrx_quarter / 90) > \n",
    "    ((catm_trx_other+ctarjeta_debito_transacciones+cforex_buy+cforex_sell+cpagodeservicios + ctransferencias_emitidas + cextraccion_autoservicio + catm_trx)/30),\n",
    "    TRUE,\n",
    "    FALSE)]\n",
    "  dataset[, g_ratio_90_30 := (ctrx_quarter / 90) / ((catm_trx_other+ctarjeta_debito_transacciones+cforex_buy+cforex_sell+cpagodeservicios + ctransferencias_emitidas + cextraccion_autoservicio + catm_trx)/30)]\n",
    "  dataset[, g_esta_complicado := ifelse(rowSums( cbind(Master_delinquency,  Visa_delinquency, Master_status, Visa_status, na.rm = TRUE)) > 0, TRUE, FALSE )]\n",
    "  dataset[, g_saldo_total := rowSums( cbind( mcuentas_saldo,  Master_msaldototal, Visa_msaldototal) , na.rm=TRUE ) ]\n",
    "  dataset[, g_ctxs_virtuales := rowSums( cbind( chomebanking_transacciones,  cmobile_app_trx) , na.rm=TRUE ) ]\n",
    "  dataset[, g_ctxs_remotas := rowSums( cbind( chomebanking_transacciones,  cmobile_app_trx, ccallcenter_transacciones) , na.rm=TRUE ) ]\n",
    "  dataset[, g_prop_txs_app :=  ctrx_quarter / g_ctxs_virtuales]\n",
    "  dataset[, g_es_activo_virtual := ifelse(g_ctxs_virtuales > 5, TRUE, FALSE)]\n",
    "  dataset[, g_es_activo_remoto := ifelse(g_ctxs_remotas > 5, TRUE, FALSE)]\n",
    "  dataset[, g_usa_pago_mis_cuentas := ifelse(cpagomiscuentas > 0, TRUE, FALSE)]\n",
    "  dataset[, g_promedio_mensual_quarter := ctrx_quarter/3]\n",
    "  dataset[, g_cobra_salario := rowSums( cbind( mpayroll,  mpayroll2) , na.rm=TRUE ) ]\n",
    "  dataset[, g_tiene_prestamos := rowSums( cbind( mpayroll,  mpayroll2) , na.rm=TRUE ) ]\n",
    "  dataset[, g_tiene_inversiones := ifelse(rowSums( cbind( cinversion1,  cinversion2) , na.rm=TRUE ) > 0, TRUE, FALSE) ]\n",
    "  dataset[, g_posee_prestamos := ifelse(rowSums( cbind( cprestamos_personales,  cprestamos_prendarios, cprestamos_hipotecarios) , na.rm=TRUE ) > 0, TRUE, FALSE) ]\n",
    "  dataset[, g_tiene_saldos_negativos := ifelse(pmin(mcaja_ahorro, mcaja_ahorro_adicional, mcaja_ahorro_dolares, mcuenta_corriente, mcuenta_corriente_adicional, na.rm=TRUE) < 0, TRUE, FALSE)]\n",
    "\n",
    "  columnas_extendidas <-  copy( setdiff(  colnames(dataset), columnas_originales ) )\n",
    "\n",
    "  #grabo con nombre extendido\n",
    "  fwrite( dataset,\n",
    "          file=arch_destino,\n",
    "          sep= \",\" )\n",
    "}\n",
    "#------------------------------------------------------------------------------\n",
    "\n",
    "#kcarpeta_datasets    <- \"../input/laboratorio-de-implementacion-i-2021/\"   #KAGGLE\n",
    "kcarpeta_datasets    <- \"./datasets/\"                          #VM o Ubuntu\n",
    "\n",
    "#Archivo con datos etiquetados para entrenamiento\n",
    "karchivo_entrada      <-  paste0(kcarpeta_datasets, \"competencia1_2022.csv\")\n",
    "karchivo_salida      <-  paste0(kcarpeta_datasets, \"competencia1_2022_FE_4.csv\")\n",
    "\n",
    "\n",
    "\n",
    "#lectura rapida del dataset  usando fread  de la libreria  data.table\n",
    "dataset1  <- fread(karchivo_entrada)\n",
    "\n",
    "EnriquecerDataset( dataset1, karchivo_salida )\n",
    "\n",
    "quit( save=\"no\")\n"
   ]
  },
  {
   "cell_type": "code",
   "execution_count": null,
   "id": "b9621ff5",
   "metadata": {
    "vscode": {
     "languageId": "r"
    }
   },
   "outputs": [],
   "source": []
  }
 ],
 "metadata": {
  "kernelspec": {
   "display_name": "R",
   "language": "R",
   "name": "ir"
  },
  "language_info": {
   "codemirror_mode": "r",
   "file_extension": ".r",
   "mimetype": "text/x-r-source",
   "name": "R",
   "pygments_lexer": "r",
   "version": "4.2.1"
  }
 },
 "nbformat": 4,
 "nbformat_minor": 5
}
