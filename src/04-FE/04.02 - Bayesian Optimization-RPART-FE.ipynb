{
 "cells": [
  {
   "cell_type": "code",
   "execution_count": 2,
   "id": "2092837f",
   "metadata": {
    "vscode": {
     "languageId": "r"
    }
   },
   "outputs": [
    {
     "data": {
      "text/html": [
       "<table class=\"dataframe\">\n",
       "<caption>A matrix: 2 × 6 of type dbl</caption>\n",
       "<thead>\n",
       "\t<tr><th></th><th scope=col>used</th><th scope=col>(Mb)</th><th scope=col>gc trigger</th><th scope=col>(Mb)</th><th scope=col>max used</th><th scope=col>(Mb)</th></tr>\n",
       "</thead>\n",
       "<tbody>\n",
       "\t<tr><th scope=row>Ncells</th><td> 615863</td><td>32.9</td><td>1335898</td><td>71.4</td><td>1335898</td><td>71.4</td></tr>\n",
       "\t<tr><th scope=row>Vcells</th><td>1155927</td><td> 8.9</td><td>8388608</td><td>64.0</td><td>1801047</td><td>13.8</td></tr>\n",
       "</tbody>\n",
       "</table>\n"
      ],
      "text/latex": [
       "A matrix: 2 × 6 of type dbl\n",
       "\\begin{tabular}{r|llllll}\n",
       "  & used & (Mb) & gc trigger & (Mb) & max used & (Mb)\\\\\n",
       "\\hline\n",
       "\tNcells &  615863 & 32.9 & 1335898 & 71.4 & 1335898 & 71.4\\\\\n",
       "\tVcells & 1155927 &  8.9 & 8388608 & 64.0 & 1801047 & 13.8\\\\\n",
       "\\end{tabular}\n"
      ],
      "text/markdown": [
       "\n",
       "A matrix: 2 × 6 of type dbl\n",
       "\n",
       "| <!--/--> | used | (Mb) | gc trigger | (Mb) | max used | (Mb) |\n",
       "|---|---|---|---|---|---|---|\n",
       "| Ncells |  615863 | 32.9 | 1335898 | 71.4 | 1335898 | 71.4 |\n",
       "| Vcells | 1155927 |  8.9 | 8388608 | 64.0 | 1801047 | 13.8 |\n",
       "\n"
      ],
      "text/plain": [
       "       used    (Mb) gc trigger (Mb) max used (Mb)\n",
       "Ncells  615863 32.9 1335898    71.4 1335898  71.4\n",
       "Vcells 1155927  8.9 8388608    64.0 1801047  13.8"
      ]
     },
     "metadata": {},
     "output_type": "display_data"
    },
    {
     "name": "stderr",
     "output_type": "stream",
     "text": [
      "Loading required package: mlr\n",
      "\n",
      "Loading required package: ParamHelpers\n",
      "\n",
      "Warning message: 'mlr' is in 'maintenance-only' mode since July 2019.\n",
      "Future development will only happen in 'mlr3'\n",
      "(<https://mlr3.mlr-org.com>). Due to the focus on 'mlr3' there might be\n",
      "uncaught bugs meanwhile in {mlr} - please consider switching.\n",
      "\n",
      "Loading required package: smoof\n",
      "\n",
      "Loading required package: checkmate\n",
      "\n",
      "\n",
      "Attaching package: ‘checkmate’\n",
      "\n",
      "\n",
      "The following object is masked from ‘package:DiceKriging’:\n",
      "\n",
      "    checkNames\n",
      "\n",
      "\n"
     ]
    }
   ],
   "source": [
    "#Optimizacion Bayesiana de hiperparametros de  rpart\n",
    "#funciona automaticamente con EXPERIMENTOS\n",
    "#va generando incrementalmente salidas para kaggle\n",
    "\n",
    "#limpio la memoria\n",
    "rm( list=ls() )  #remove all objects\n",
    "gc()             #garbage collection\n",
    "\n",
    "library(\"data.table\")\n",
    "library(\"rlist\")\n",
    "library(\"yaml\")\n",
    "\n",
    "library(\"rpart\")\n",
    "library(\"parallel\")\n",
    "\n",
    "#paquetes necesarios para la Bayesian Optimization\n",
    "library(\"DiceKriging\")\n",
    "library(\"mlrMBO\")"
   ]
  },
  {
   "cell_type": "code",
   "execution_count": 3,
   "id": "cdbf9f90",
   "metadata": {
    "vscode": {
     "languageId": "r"
    }
   },
   "outputs": [],
   "source": [
    "#para poder usarlo en la PC y en la nube\n",
    "switch ( Sys.info()[['sysname']],\n",
    "         Windows = { directory.root   <-  \"M:\\\\\" },   #Microsoft Windows\n",
    "         Darwin  = { directory.root   <-  \"~/dm/\" },  #Apple MAC\n",
    "#         Linux   = { directory.root   <-  \"~/buckets/b1/\" }  #Entorno Google Cloud\n",
    "         Linux   = { directory.root   <-  \"~/\" }  #Hay un problema en el almacenamiento en cloud del BO por el momento se graba en el usuario\n",
    "       )\n",
    "#defino la carpeta donde trabajo\n",
    "\n",
    "#Hay un error en el almacenamiento \n",
    "\n",
    "setwd( \"/home/devsar/Documents/Austral/Laboratorio de Implementación\" )"
   ]
  },
  {
   "cell_type": "code",
   "execution_count": 4,
   "id": "0b489a50",
   "metadata": {
    "vscode": {
     "languageId": "r"
    }
   },
   "outputs": [],
   "source": [
    "kexperimento  <- 301   #NA si se corre la primera vez, un valor concreto si es para continuar procesando\n",
    "\n",
    "kscript           <- \"04.02 - BO Rpart FE\"\n",
    "kBO_iter    <-  400   #cantidad de iteraciones de la Optimizacion Bayesiana\n",
    "\n",
    "kcarpeta_datasets    <- \"./datasets/\"                          #VM o Ubuntu\n",
    "\n",
    "#Archivo con datos etiquetados para entrenamiento\n",
    "karchivo_entrada      <-  paste0(kcarpeta_datasets, \"competencia1_2022_FE_4.csv\")\n",
    "\n",
    "\n",
    "#Ganancia por TP\n",
    "kTPGain               <-  78000\n",
    "\n",
    "#Pérdida por FP\n",
    "kFPGain               <-  -2000\n",
    "\n",
    "\n",
    "hs  <- makeParamSet(\n",
    "          makeNumericParam(\"cp\"       , lower= -1   , upper=    0.01),\n",
    "          makeIntegerParam(\"minsplit\" , lower=  300L  , upper= 2000L),  #la letra L al final significa ENTERO\n",
    "          makeIntegerParam(\"minbucket\", lower=  3L  , upper= 1000L),\n",
    "          makeIntegerParam(\"maxdepth\" , lower=  6L  , upper=   14L),\n",
    "          forbidden = quote( minbucket > 0.5*minsplit ) )\n",
    "\n",
    "\n",
    "ksemilla_azar  <- 700027"
   ]
  },
  {
   "cell_type": "markdown",
   "id": "426b9b91-0ff7-45dd-8245-a32801ff5b76",
   "metadata": {
    "vscode": {
     "languageId": "r"
    }
   },
   "source": [
    "#------------------------------------------------------------------------------\n",
    "#Funcion que lleva el registro de los experimentos\n",
    "\n",
    "get_experimento  <- function()\n",
    "{\n",
    "  if( !file.exists( \"./maestro.yaml\" ) )  cat( file=\"./maestro.yaml\", \"experimento: 1000\" )\n",
    "\n",
    "  exp  <- read_yaml( \"./maestro.yaml\" )\n",
    "  experimento_actual  <- exp$experimento\n",
    "\n",
    "  exp$experimento  <- as.integer(exp$experimento + 1)\n",
    "  Sys.chmod( \"./maestro.yaml\", mode = \"0644\", use_umask = TRUE)\n",
    "  write_yaml( exp, \"./maestro.yaml\" )\n",
    "  Sys.chmod( \"./maestro.yaml\", mode = \"0444\", use_umask = TRUE) #dejo el archivo readonly\n",
    "\n",
    "  return( experimento_actual )\n",
    "}"
   ]
  },
  {
   "cell_type": "code",
   "execution_count": 5,
   "id": "d2e38325-19a3-4e59-8b0a-26471a2c4fd5",
   "metadata": {
    "vscode": {
     "languageId": "r"
    }
   },
   "outputs": [],
   "source": [
    "#------------------------------------------------------------------------------\n",
    "#Funcion que lleva el registro de los experimentos\n",
    "\n",
    "get_experimento  <- function()\n",
    "{\n",
    "  if( !file.exists( \"./maestro.yaml\" ) )  cat( file=\"./maestro.yaml\", \"experimento: 1000\" )\n",
    "\n",
    "  exp  <- read_yaml( \"./maestro.yaml\" )\n",
    "  experimento_actual  <- exp$experimento\n",
    "\n",
    "  exp$experimento  <- as.integer(exp$experimento + 1)\n",
    "  Sys.chmod( \"./maestro.yaml\", mode = \"0644\", use_umask = TRUE)\n",
    "  write_yaml( exp, \"./maestro.yaml\" )\n",
    "  Sys.chmod( \"./maestro.yaml\", mode = \"0444\", use_umask = TRUE) #dejo el archivo readonly\n",
    "\n",
    "  return( experimento_actual )\n",
    "}"
   ]
  },
  {
   "cell_type": "code",
   "execution_count": 6,
   "id": "1e9841a2",
   "metadata": {
    "vscode": {
     "languageId": "r"
    }
   },
   "outputs": [],
   "source": [
    "#------------------------------------------------------------------------------\n",
    "#funcion para particionar, es la que Andres reemplaza con caret\n",
    "\n",
    "particionar  <- function( data, division, agrupa=\"\", campo=\"fold\", start=1, seed=NA )\n",
    "{\n",
    "  if( !is.na( seed)  )   set.seed( seed )\n",
    "\n",
    "  bloque  <- unlist( mapply(  function(x,y) { rep( y, x ) }, division, seq( from=start, length.out=length(division) )  ) )\n",
    "\n",
    "  data[ , (campo) :=  sample( rep( bloque, ceiling(.N/length(bloque))) )[1:.N],\n",
    "           by= agrupa ]\n",
    "}\n",
    "#------------------------------------------------------------------------------"
   ]
  },
  {
   "cell_type": "code",
   "execution_count": 7,
   "id": "c1e1901e",
   "metadata": {
    "vscode": {
     "languageId": "r"
    }
   },
   "outputs": [],
   "source": [
    "ArbolSimple  <- function( fold_test, data, param )\n",
    "{\n",
    "  variables = \". -Master_delinquency-Master_status-Master_mfinanciacion_limite-Master_Fvencimiento-Master_Finiciomora-Master_msaldototal-Master_msaldopesos-Master_msaldodolares-Master_mconsumospesos-Master_mconsumosdolares-Master_mlimitecompra-Master_madelantopesos-Master_madelantodolares-Master_fultimo_cierre-Master_mpagado-Master_mpagospesos-Master_mpagosdolares-Master_fechaalta-Master_mconsumototal-Master_cconsumos-Master_cadelantosefectivo-Master_mpagominimo-Visa_delinquency-Visa_status-Visa_mfinanciacion_limite-Visa_Fvencimiento-Visa_Finiciomora-Visa_msaldototal-Visa_msaldopesos-Visa_msaldodolares-Visa_mconsumospesos-Visa_mconsumosdolares-Visa_mlimitecompra-Visa_madelantopesos-Visa_madelantodolares-Visa_fultimo_cierre-Visa_mpagado-Visa_mpagospesos-Visa_mpagosdolares-Visa_fechaalta-Visa_mconsumototal-Visa_cconsumos-Visa_cadelantosefectivo-Visa_mpagominimo\"\n",
    "  my_formula = paste(\"clase_ternaria ~\", variables)\n",
    "  #genero el modelo\n",
    "  modelo  <- rpart(my_formula, \n",
    "                   data= data[ fold != fold_test, ],\n",
    "                   xval= 0,\n",
    "                   control= param )\n",
    "\n",
    "  #aplico el modelo a los datos de testing, fold==2\n",
    "  prediccion  <- predict( modelo, data[ fold==fold_test, ], type = \"prob\")\n",
    "\n",
    "  prob_baja2  <- prediccion[, \"BAJA+2\"]\n",
    "\n",
    "  ganancia_testing  <- sum(  data[ fold==fold_test ][ prob_baja2 >0.025,  ifelse( clase_ternaria==\"BAJA+2\", kTPGain, kFPGain ) ] )\n",
    "\n",
    "  return( ganancia_testing )\n",
    "}"
   ]
  },
  {
   "cell_type": "code",
   "execution_count": 8,
   "id": "3f25f951",
   "metadata": {
    "vscode": {
     "languageId": "r"
    }
   },
   "outputs": [],
   "source": [
    "#------------------------------------------------------------------------------\n",
    "\n",
    "ArbolesCrossValidation  <- function( data, param, qfolds, pagrupa, semilla )\n",
    "{\n",
    "  divi  <- rep( 1, qfolds )\n",
    "  particionar( data, divi, seed=semilla, agrupa=pagrupa )\n",
    "\n",
    "  ganancias  <- mcmapply( ArbolSimple, \n",
    "                          seq(qfolds), # 1 2 3 4 5  \n",
    "                          MoreArgs= list( data, param), \n",
    "                          SIMPLIFY= FALSE,\n",
    "                          mc.cores= 5 )   #se puede subir a 5 si posee Linux o Mac OS\n",
    "\n",
    "  data[ , fold := NULL ]\n",
    "  #devuelvo la primer ganancia y el promedio\n",
    "  return( mean( unlist( ganancias )) *  qfolds )   #aqui normalizo la ganancia\n",
    "}"
   ]
  },
  {
   "cell_type": "code",
   "execution_count": 9,
   "id": "6ba36867",
   "metadata": {
    "vscode": {
     "languageId": "r"
    }
   },
   "outputs": [],
   "source": [
    "#------------------------------------------------------------------------------\n",
    "#esta funcion solo puede recibir los parametros que se estan optimizando\n",
    "#el resto de los parametros se pasan como variables globales\n",
    "\n",
    "EstimarGanancia  <- function( x )\n",
    "{\n",
    "   GLOBAL_iteracion  <<-  GLOBAL_iteracion + 1\n",
    "\n",
    "   xval_folds  <- 5\n",
    "   ganancia  <-  ArbolesCrossValidation( dtrain, param=x, qfolds= xval_folds, pagrupa=\"clase_ternaria\", semilla=ksemilla_azar )\n",
    "\n",
    "   #si tengo una ganancia superadora, genero el archivo para Kaggle\n",
    "   if(  ganancia > GLOBAL_ganancia_max )\n",
    "   {\n",
    "     GLOBAL_ganancia_max <<-  ganancia  #asigno la nueva maxima ganancia\n",
    "    \n",
    "     variables = \". -Master_delinquency-Master_status-Master_mfinanciacion_limite-Master_Fvencimiento-Master_Finiciomora-Master_msaldototal-Master_msaldopesos-Master_msaldodolares-Master_mconsumospesos-Master_mconsumosdolares-Master_mlimitecompra-Master_madelantopesos-Master_madelantodolares-Master_fultimo_cierre-Master_mpagado-Master_mpagospesos-Master_mpagosdolares-Master_fechaalta-Master_mconsumototal-Master_cconsumos-Master_cadelantosefectivo-Master_mpagominimo-Visa_delinquency-Visa_status-Visa_mfinanciacion_limite-Visa_Fvencimiento-Visa_Finiciomora-Visa_msaldototal-Visa_msaldopesos-Visa_msaldodolares-Visa_mconsumospesos-Visa_mconsumosdolares-Visa_mlimitecompra-Visa_madelantopesos-Visa_madelantodolares-Visa_fultimo_cierre-Visa_mpagado-Visa_mpagospesos-Visa_mpagosdolares-Visa_fechaalta-Visa_mconsumototal-Visa_cconsumos-Visa_cadelantosefectivo-Visa_mpagominimo\"\n",
    "     my_formula = paste(\"clase_ternaria ~\", variables)\n",
    "     modelo  <- rpart(my_formula,\n",
    "                      data= dtrain,\n",
    "                      xval= 0,\n",
    "                      control= x )\n",
    "\n",
    "     #genero el vector con la prediccion, la probabilidad de ser positivo\n",
    "     prediccion  <- predict( modelo, dapply)\n",
    "\n",
    "     prob_baja2  <- prediccion[, \"BAJA+2\"]\n",
    "     Predicted   <- ifelse( prob_baja2 > 0.025, 1, 0 )\n",
    "\n",
    "     entrega  <-  as.data.table( list( \"numero_de_cliente\"=dapply$numero_de_cliente, \"Predicted\"=Predicted)  )\n",
    "\n",
    "     #genero el archivo para Kaggle\n",
    "     fwrite( entrega, \n",
    "             file= paste0(kkaggle, GLOBAL_iteracion, \".csv\" ),\n",
    "             sep=  \",\" )\n",
    "   }\n",
    "\n",
    "   return( ganancia )\n",
    "}\n",
    "#------------------------------------------------------------------------------"
   ]
  },
  {
   "cell_type": "code",
   "execution_count": 10,
   "id": "3bdbd4cb",
   "metadata": {
    "vscode": {
     "languageId": "r"
    }
   },
   "outputs": [],
   "source": [
    "#Aqui empieza el programa\n",
    "\n",
    "if( is.na(kexperimento ) )   kexperimento <- get_experimento()  #creo el experimento"
   ]
  },
  {
   "cell_type": "code",
   "execution_count": 11,
   "id": "57f2a412",
   "metadata": {
    "vscode": {
     "languageId": "r"
    }
   },
   "outputs": [],
   "source": [
    "#en estos archivos quedan los resultados\n",
    "kbayesiana  <- paste0(\"./E\",  kexperimento, \"_rpart.RDATA\" )\n",
    "kkaggle     <- paste0(\"./E\",kexperimento, \"_rpart_kaggle_\" )"
   ]
  },
  {
   "cell_type": "code",
   "execution_count": 15,
   "id": "a555476f",
   "metadata": {
    "vscode": {
     "languageId": "r"
    }
   },
   "outputs": [],
   "source": [
    "GLOBAL_ganancia_max  <-  -Inf\n",
    "GLOBAL_iteracion  <- 19"
   ]
  },
  {
   "cell_type": "code",
   "execution_count": 12,
   "id": "81cc80f4",
   "metadata": {
    "vscode": {
     "languageId": "r"
    }
   },
   "outputs": [],
   "source": [
    "#cargo los datos\n",
    "dataset <- fread(karchivo_entrada)\n",
    "\n",
    "#Para hacer pruebas rapidas puedo reducir el dataset a una fraccion\n",
    "#subsample <- sample(1:nrow(dataset), .1 * nrow(dataset))\n",
    "#dataset <- dataset[subsample,]\n",
    "\n",
    "dtrain  <- dataset[ foto_mes==202101 ]  #defino donde voy a entrenar\n",
    "\n",
    "dapply  <- dataset[ foto_mes==202103 ]  #defino donde voy a aplicar el modelo"
   ]
  },
  {
   "cell_type": "code",
   "execution_count": 13,
   "id": "c81db6a6",
   "metadata": {
    "vscode": {
     "languageId": "r"
    }
   },
   "outputs": [],
   "source": [
    "#Aqui comienza la configuracion de la Bayesian Optimization\n",
    "\n",
    "configureMlr( show.learner.output = FALSE)\n",
    "\n",
    "funcion_optimizar  <- EstimarGanancia\n",
    "\n",
    "#configuro la busqueda bayesiana,  los hiperparametros que se van a optimizar\n",
    "#por favor, no desesperarse por lo complejo\n",
    "obj.fun  <- makeSingleObjectiveFunction(\n",
    "              fn=       funcion_optimizar,\n",
    "              minimize= FALSE,   #estoy Maximizando la ganancia\n",
    "              noisy=    TRUE,\n",
    "              par.set=  hs,\n",
    "              has.simple.signature = FALSE\n",
    "             )\n",
    "\n",
    "ctrl  <- makeMBOControl( save.on.disk.at.time= 60,  save.file.path= kbayesiana)\n",
    "ctrl  <- setMBOControlTermination(ctrl, iters= kBO_iter )\n",
    "ctrl  <- setMBOControlInfill(ctrl, crit= makeMBOInfillCritEI())\n",
    "\n",
    "surr.km  <-  makeLearner(\"regr.km\", predict.type= \"se\", covtype= \"matern3_2\", control= list(trace= TRUE))"
   ]
  },
  {
   "cell_type": "code",
   "execution_count": 16,
   "id": "9383ca74",
   "metadata": {
    "vscode": {
     "languageId": "r"
    }
   },
   "outputs": [
    {
     "name": "stderr",
     "output_type": "stream",
     "text": [
      "[mbo] 19: cp=-0.012; minsplit=1092; minbucket=25; maxdepth=6 : y = 2.06e+07 : 39.5 secs : infill_ei\n",
      "\n",
      "Saved the current state after iteration 20 in the file ./E301_rpart.RDATA.\n",
      "\n",
      "[mbo] 20: cp=-0.925; minsplit=1083; minbucket=273; maxdepth=6 : y = 2.01e+07 : 21.1 secs : infill_ei\n",
      "\n",
      "[mbo] 21: cp=-0.993; minsplit=1101; minbucket=352; maxdepth=8 : y = 1.97e+07 : 34.3 secs : infill_ei\n",
      "\n",
      "[mbo] 22: cp=-0.983; minsplit=1476; minbucket=29; maxdepth=14 : y = 1.85e+07 : 50.7 secs : infill_ei\n",
      "\n",
      "Saved the current state after iteration 23 in the file ./E301_rpart.RDATA.\n",
      "\n",
      "[mbo] 23: cp=-0.118; minsplit=1454; minbucket=172; maxdepth=7 : y = 2.01e+07 : 28.9 secs : infill_ei\n",
      "\n",
      "[mbo] 24: cp=-0.32; minsplit=1090; minbucket=545; maxdepth=14 : y = 1.91e+07 : 48.5 secs : infill_ei\n",
      "\n",
      "Saved the current state after iteration 25 in the file ./E301_rpart.RDATA.\n",
      "\n",
      "[mbo] 25: cp=-0.949; minsplit=1522; minbucket=319; maxdepth=6 : y = 1.97e+07 : 26.4 secs : infill_ei\n",
      "\n",
      "[mbo] 26: cp=-0.33; minsplit=1250; minbucket=374; maxdepth=7 : y = 1.97e+07 : 31.2 secs : infill_ei\n",
      "\n",
      "Saved the current state after iteration 27 in the file ./E301_rpart.RDATA.\n",
      "\n",
      "[mbo] 27: cp=-0.0741; minsplit=1223; minbucket=557; maxdepth=14 : y = 1.93e+07 : 49.4 secs : infill_ei\n",
      "\n",
      "[mbo] 28: cp=-0.00321; minsplit=1116; minbucket=78; maxdepth=7 : y = 2.11e+07 : 41.5 secs : infill_ei\n",
      "\n",
      "Saved the current state after iteration 29 in the file ./E301_rpart.RDATA.\n",
      "\n",
      "[mbo] 29: cp=-0.435; minsplit=1126; minbucket=4; maxdepth=6 : y = 1.95e+07 : 26.1 secs : infill_ei\n",
      "\n",
      "[mbo] 30: cp=-0.0153; minsplit=1108; minbucket=44; maxdepth=6 : y = 2.06e+07 : 25.7 secs : infill_ei\n",
      "\n",
      "[mbo] 31: cp=-0.993; minsplit=1116; minbucket=120; maxdepth=14 : y = 1.99e+07 : 49.0 secs : infill_ei\n",
      "\n",
      "Saved the current state after iteration 32 in the file ./E301_rpart.RDATA.\n",
      "\n",
      "[mbo] 32: cp=-0.904; minsplit=1363; minbucket=313; maxdepth=6 : y = 1.95e+07 : 24.6 secs : infill_ei\n",
      "\n",
      "[mbo] 33: cp=-0.454; minsplit=1766; minbucket=109; maxdepth=6 : y = 1.96e+07 : 25.9 secs : infill_ei\n",
      "\n",
      "[mbo] 34: cp=-0.751; minsplit=1438; minbucket=716; maxdepth=7 : y = 1.92e+07 : 29.3 secs : infill_ei\n",
      "\n",
      "Saved the current state after iteration 35 in the file ./E301_rpart.RDATA.\n",
      "\n",
      "[mbo] 35: cp=-0.967; minsplit=1268; minbucket=37; maxdepth=14 : y = 1.94e+07 : 52.0 secs : infill_ei\n",
      "\n",
      "[mbo] 36: cp=-0.298; minsplit=1539; minbucket=123; maxdepth=14 : y = 2.03e+07 : 47.6 secs : infill_ei\n",
      "\n",
      "Saved the current state after iteration 37 in the file ./E301_rpart.RDATA.\n",
      "\n",
      "[mbo] 37: cp=-0.954; minsplit=1550; minbucket=585; maxdepth=6 : y = 1.91e+07 : 25.4 secs : infill_ei\n",
      "\n",
      "[mbo] 38: cp=-0.13; minsplit=1746; minbucket=857; maxdepth=12 : y = 1.87e+07 : 43.6 secs : infill_ei\n",
      "\n",
      "Saved the current state after iteration 39 in the file ./E301_rpart.RDATA.\n",
      "\n",
      "[mbo] 39: cp=-0.0354; minsplit=1528; minbucket=479; maxdepth=14 : y = 1.95e+07 : 49.6 secs : infill_ei\n",
      "\n",
      "[mbo] 40: cp=-0.909; minsplit=1928; minbucket=942; maxdepth=8 : y = 1.83e+07 : 31.5 secs : infill_ei\n",
      "\n",
      "Saved the current state after iteration 41 in the file ./E301_rpart.RDATA.\n",
      "\n"
     ]
    }
   ],
   "source": [
    "#inicio la optimizacion bayesiana\n",
    "if(!file.exists(kbayesiana)) {\n",
    "  run  <- mbo(obj.fun, learner = surr.km, control = ctrl)\n",
    "} else  run  <- mboContinue( kbayesiana )   #retomo en caso que ya exista"
   ]
  },
  {
   "cell_type": "code",
   "execution_count": null,
   "id": "fd592624",
   "metadata": {
    "vscode": {
     "languageId": "r"
    }
   },
   "outputs": [],
   "source": [
    "quit( save=\"no\" )"
   ]
  },
  {
   "cell_type": "code",
   "execution_count": null,
   "id": "5b559bf4",
   "metadata": {
    "vscode": {
     "languageId": "r"
    }
   },
   "outputs": [],
   "source": []
  }
 ],
 "metadata": {
  "kernelspec": {
   "display_name": "R",
   "language": "R",
   "name": "ir"
  },
  "language_info": {
   "codemirror_mode": "r",
   "file_extension": ".r",
   "mimetype": "text/x-r-source",
   "name": "R",
   "pygments_lexer": "r",
   "version": "4.2.1"
  },
  "vscode": {
   "interpreter": {
    "hash": "0b87cd2a2c92c59199cd604023601109306b45cac2bd778b8aa97bbc69631231"
   }
  }
 },
 "nbformat": 4,
 "nbformat_minor": 5
}
